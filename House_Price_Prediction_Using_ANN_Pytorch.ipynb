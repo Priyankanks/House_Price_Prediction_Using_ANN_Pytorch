{
  "nbformat": 4,
  "nbformat_minor": 0,
  "metadata": {
    "colab": {
      "name": "House_Price_Prediction_Using_ANN_Pytorch.ipynb",
      "provenance": [],
      "collapsed_sections": []
    },
    "kernelspec": {
      "name": "python3",
      "display_name": "Python 3"
    },
    "language_info": {
      "name": "python"
    },
    "accelerator": "GPU"
  },
  "cells": [
    {
      "cell_type": "code",
      "metadata": {
        "id": "dOQU85FnNW7p"
      },
      "source": [
        "import pandas as pd"
      ],
      "execution_count": 1,
      "outputs": []
    },
    {
      "cell_type": "code",
      "metadata": {
        "id": "cxrR0U_hWAMc"
      },
      "source": [
        "# Importing the dataset\n",
        "df = pd.read_csv('/content/drive/MyDrive/Data_Science/Pytorch/House_Price_Prediction.csv',usecols=[\"SalePrice\", \"MSSubClass\", \"MSZoning\", \"LotFrontage\", \"LotArea\",\n",
        "                                         \"Street\", \"YearBuilt\", \"LotShape\", \"1stFlrSF\", \"2ndFlrSF\"])"
      ],
      "execution_count": 2,
      "outputs": []
    },
    {
      "cell_type": "code",
      "metadata": {
        "colab": {
          "base_uri": "https://localhost:8080/",
          "height": 417
        },
        "id": "3FQwZNgJX1W-",
        "outputId": "5f684b50-7a7b-4539-ae40-a7e2b5d24e6b"
      },
      "source": [
        "df"
      ],
      "execution_count": 3,
      "outputs": [
        {
          "output_type": "execute_result",
          "data": {
            "text/html": [
              "<div>\n",
              "<style scoped>\n",
              "    .dataframe tbody tr th:only-of-type {\n",
              "        vertical-align: middle;\n",
              "    }\n",
              "\n",
              "    .dataframe tbody tr th {\n",
              "        vertical-align: top;\n",
              "    }\n",
              "\n",
              "    .dataframe thead th {\n",
              "        text-align: right;\n",
              "    }\n",
              "</style>\n",
              "<table border=\"1\" class=\"dataframe\">\n",
              "  <thead>\n",
              "    <tr style=\"text-align: right;\">\n",
              "      <th></th>\n",
              "      <th>MSSubClass</th>\n",
              "      <th>MSZoning</th>\n",
              "      <th>LotFrontage</th>\n",
              "      <th>LotArea</th>\n",
              "      <th>Street</th>\n",
              "      <th>LotShape</th>\n",
              "      <th>YearBuilt</th>\n",
              "      <th>1stFlrSF</th>\n",
              "      <th>2ndFlrSF</th>\n",
              "      <th>SalePrice</th>\n",
              "    </tr>\n",
              "  </thead>\n",
              "  <tbody>\n",
              "    <tr>\n",
              "      <th>0</th>\n",
              "      <td>60</td>\n",
              "      <td>RL</td>\n",
              "      <td>65.0</td>\n",
              "      <td>8450</td>\n",
              "      <td>Pave</td>\n",
              "      <td>Reg</td>\n",
              "      <td>2003</td>\n",
              "      <td>856</td>\n",
              "      <td>854</td>\n",
              "      <td>208500</td>\n",
              "    </tr>\n",
              "    <tr>\n",
              "      <th>1</th>\n",
              "      <td>20</td>\n",
              "      <td>RL</td>\n",
              "      <td>80.0</td>\n",
              "      <td>9600</td>\n",
              "      <td>Pave</td>\n",
              "      <td>Reg</td>\n",
              "      <td>1976</td>\n",
              "      <td>1262</td>\n",
              "      <td>0</td>\n",
              "      <td>181500</td>\n",
              "    </tr>\n",
              "    <tr>\n",
              "      <th>2</th>\n",
              "      <td>60</td>\n",
              "      <td>RL</td>\n",
              "      <td>68.0</td>\n",
              "      <td>11250</td>\n",
              "      <td>Pave</td>\n",
              "      <td>IR1</td>\n",
              "      <td>2001</td>\n",
              "      <td>920</td>\n",
              "      <td>866</td>\n",
              "      <td>223500</td>\n",
              "    </tr>\n",
              "    <tr>\n",
              "      <th>3</th>\n",
              "      <td>70</td>\n",
              "      <td>RL</td>\n",
              "      <td>60.0</td>\n",
              "      <td>9550</td>\n",
              "      <td>Pave</td>\n",
              "      <td>IR1</td>\n",
              "      <td>1915</td>\n",
              "      <td>961</td>\n",
              "      <td>756</td>\n",
              "      <td>140000</td>\n",
              "    </tr>\n",
              "    <tr>\n",
              "      <th>4</th>\n",
              "      <td>60</td>\n",
              "      <td>RL</td>\n",
              "      <td>84.0</td>\n",
              "      <td>14260</td>\n",
              "      <td>Pave</td>\n",
              "      <td>IR1</td>\n",
              "      <td>2000</td>\n",
              "      <td>1145</td>\n",
              "      <td>1053</td>\n",
              "      <td>250000</td>\n",
              "    </tr>\n",
              "    <tr>\n",
              "      <th>...</th>\n",
              "      <td>...</td>\n",
              "      <td>...</td>\n",
              "      <td>...</td>\n",
              "      <td>...</td>\n",
              "      <td>...</td>\n",
              "      <td>...</td>\n",
              "      <td>...</td>\n",
              "      <td>...</td>\n",
              "      <td>...</td>\n",
              "      <td>...</td>\n",
              "    </tr>\n",
              "    <tr>\n",
              "      <th>1455</th>\n",
              "      <td>60</td>\n",
              "      <td>RL</td>\n",
              "      <td>62.0</td>\n",
              "      <td>7917</td>\n",
              "      <td>Pave</td>\n",
              "      <td>Reg</td>\n",
              "      <td>1999</td>\n",
              "      <td>953</td>\n",
              "      <td>694</td>\n",
              "      <td>175000</td>\n",
              "    </tr>\n",
              "    <tr>\n",
              "      <th>1456</th>\n",
              "      <td>20</td>\n",
              "      <td>RL</td>\n",
              "      <td>85.0</td>\n",
              "      <td>13175</td>\n",
              "      <td>Pave</td>\n",
              "      <td>Reg</td>\n",
              "      <td>1978</td>\n",
              "      <td>2073</td>\n",
              "      <td>0</td>\n",
              "      <td>210000</td>\n",
              "    </tr>\n",
              "    <tr>\n",
              "      <th>1457</th>\n",
              "      <td>70</td>\n",
              "      <td>RL</td>\n",
              "      <td>66.0</td>\n",
              "      <td>9042</td>\n",
              "      <td>Pave</td>\n",
              "      <td>Reg</td>\n",
              "      <td>1941</td>\n",
              "      <td>1188</td>\n",
              "      <td>1152</td>\n",
              "      <td>266500</td>\n",
              "    </tr>\n",
              "    <tr>\n",
              "      <th>1458</th>\n",
              "      <td>20</td>\n",
              "      <td>RL</td>\n",
              "      <td>68.0</td>\n",
              "      <td>9717</td>\n",
              "      <td>Pave</td>\n",
              "      <td>Reg</td>\n",
              "      <td>1950</td>\n",
              "      <td>1078</td>\n",
              "      <td>0</td>\n",
              "      <td>142125</td>\n",
              "    </tr>\n",
              "    <tr>\n",
              "      <th>1459</th>\n",
              "      <td>20</td>\n",
              "      <td>RL</td>\n",
              "      <td>75.0</td>\n",
              "      <td>9937</td>\n",
              "      <td>Pave</td>\n",
              "      <td>Reg</td>\n",
              "      <td>1965</td>\n",
              "      <td>1256</td>\n",
              "      <td>0</td>\n",
              "      <td>147500</td>\n",
              "    </tr>\n",
              "  </tbody>\n",
              "</table>\n",
              "<p>1460 rows × 10 columns</p>\n",
              "</div>"
            ],
            "text/plain": [
              "      MSSubClass MSZoning  LotFrontage  ...  1stFlrSF 2ndFlrSF SalePrice\n",
              "0             60       RL         65.0  ...       856      854    208500\n",
              "1             20       RL         80.0  ...      1262        0    181500\n",
              "2             60       RL         68.0  ...       920      866    223500\n",
              "3             70       RL         60.0  ...       961      756    140000\n",
              "4             60       RL         84.0  ...      1145     1053    250000\n",
              "...          ...      ...          ...  ...       ...      ...       ...\n",
              "1455          60       RL         62.0  ...       953      694    175000\n",
              "1456          20       RL         85.0  ...      2073        0    210000\n",
              "1457          70       RL         66.0  ...      1188     1152    266500\n",
              "1458          20       RL         68.0  ...      1078        0    142125\n",
              "1459          20       RL         75.0  ...      1256        0    147500\n",
              "\n",
              "[1460 rows x 10 columns]"
            ]
          },
          "metadata": {
            "tags": []
          },
          "execution_count": 3
        }
      ]
    },
    {
      "cell_type": "code",
      "metadata": {
        "colab": {
          "base_uri": "https://localhost:8080/"
        },
        "id": "j1n_vu_KX_74",
        "outputId": "507f804c-9165-48b0-b085-3404b5295e60"
      },
      "source": [
        "# Checking sum of Null Values\n",
        "df.isnull().sum()"
      ],
      "execution_count": 4,
      "outputs": [
        {
          "output_type": "execute_result",
          "data": {
            "text/plain": [
              "MSSubClass       0\n",
              "MSZoning         0\n",
              "LotFrontage    259\n",
              "LotArea          0\n",
              "Street           0\n",
              "LotShape         0\n",
              "YearBuilt        0\n",
              "1stFlrSF         0\n",
              "2ndFlrSF         0\n",
              "SalePrice        0\n",
              "dtype: int64"
            ]
          },
          "metadata": {
            "tags": []
          },
          "execution_count": 4
        }
      ]
    },
    {
      "cell_type": "code",
      "metadata": {
        "id": "rBuMnbkbYHO2"
      },
      "source": [
        "# Removing the null values\n",
        "df = df.dropna()"
      ],
      "execution_count": 5,
      "outputs": []
    },
    {
      "cell_type": "code",
      "metadata": {
        "colab": {
          "base_uri": "https://localhost:8080/"
        },
        "id": "vK8M2rNTYMtb",
        "outputId": "067ef3f2-0944-4cfd-ff8f-4b2c865a0b6d"
      },
      "source": [
        "# Viewing the shape of the datset\n",
        "df.shape"
      ],
      "execution_count": 6,
      "outputs": [
        {
          "output_type": "execute_result",
          "data": {
            "text/plain": [
              "(1201, 10)"
            ]
          },
          "metadata": {
            "tags": []
          },
          "execution_count": 6
        }
      ]
    },
    {
      "cell_type": "code",
      "metadata": {
        "colab": {
          "base_uri": "https://localhost:8080/"
        },
        "id": "n_GK71PjYOsb",
        "outputId": "669e2c84-e79a-4539-82c3-7f4f18448fae"
      },
      "source": [
        "# Info of the datsets\n",
        "df.info()"
      ],
      "execution_count": 7,
      "outputs": [
        {
          "output_type": "stream",
          "text": [
            "<class 'pandas.core.frame.DataFrame'>\n",
            "Int64Index: 1201 entries, 0 to 1459\n",
            "Data columns (total 10 columns):\n",
            " #   Column       Non-Null Count  Dtype  \n",
            "---  ------       --------------  -----  \n",
            " 0   MSSubClass   1201 non-null   int64  \n",
            " 1   MSZoning     1201 non-null   object \n",
            " 2   LotFrontage  1201 non-null   float64\n",
            " 3   LotArea      1201 non-null   int64  \n",
            " 4   Street       1201 non-null   object \n",
            " 5   LotShape     1201 non-null   object \n",
            " 6   YearBuilt    1201 non-null   int64  \n",
            " 7   1stFlrSF     1201 non-null   int64  \n",
            " 8   2ndFlrSF     1201 non-null   int64  \n",
            " 9   SalePrice    1201 non-null   int64  \n",
            "dtypes: float64(1), int64(6), object(3)\n",
            "memory usage: 103.2+ KB\n"
          ],
          "name": "stdout"
        }
      ]
    },
    {
      "cell_type": "code",
      "metadata": {
        "colab": {
          "base_uri": "https://localhost:8080/"
        },
        "id": "tWWYQq7xYb1b",
        "outputId": "045f622e-e412-4e9b-8ea3-f7afd26111ce"
      },
      "source": [
        "# Checking the unique values\n",
        "for i in df.columns:\n",
        "  print(\"{} has {} unique values\".format(i, len(df[i].unique())))"
      ],
      "execution_count": 8,
      "outputs": [
        {
          "output_type": "stream",
          "text": [
            "MSSubClass has 15 unique values\n",
            "MSZoning has 5 unique values\n",
            "LotFrontage has 110 unique values\n",
            "LotArea has 869 unique values\n",
            "Street has 2 unique values\n",
            "LotShape has 4 unique values\n",
            "YearBuilt has 112 unique values\n",
            "1stFlrSF has 678 unique values\n",
            "2ndFlrSF has 368 unique values\n",
            "SalePrice has 597 unique values\n"
          ],
          "name": "stdout"
        }
      ]
    },
    {
      "cell_type": "code",
      "metadata": {
        "colab": {
          "base_uri": "https://localhost:8080/"
        },
        "id": "wtFnPnQzZwWV",
        "outputId": "d5cd4e9e-cd31-41ee-c40f-266611684170"
      },
      "source": [
        "# Based on the year built we can calculate the no of years used\n",
        "\n",
        "import datetime\n",
        "yr = datetime.datetime.now().year\n",
        "yr"
      ],
      "execution_count": 9,
      "outputs": [
        {
          "output_type": "execute_result",
          "data": {
            "text/plain": [
              "2021"
            ]
          },
          "metadata": {
            "tags": []
          },
          "execution_count": 9
        }
      ]
    },
    {
      "cell_type": "code",
      "metadata": {
        "colab": {
          "base_uri": "https://localhost:8080/"
        },
        "id": "dK7o_aUYbu41",
        "outputId": "69a511ac-e8f3-4abb-c349-083df2cdd0b9"
      },
      "source": [
        "df['Total_Year']= yr - df['YearBuilt']"
      ],
      "execution_count": 10,
      "outputs": [
        {
          "output_type": "stream",
          "text": [
            "/usr/local/lib/python3.7/dist-packages/ipykernel_launcher.py:1: SettingWithCopyWarning: \n",
            "A value is trying to be set on a copy of a slice from a DataFrame.\n",
            "Try using .loc[row_indexer,col_indexer] = value instead\n",
            "\n",
            "See the caveats in the documentation: https://pandas.pydata.org/pandas-docs/stable/user_guide/indexing.html#returning-a-view-versus-a-copy\n",
            "  \"\"\"Entry point for launching an IPython kernel.\n"
          ],
          "name": "stderr"
        }
      ]
    },
    {
      "cell_type": "code",
      "metadata": {
        "colab": {
          "base_uri": "https://localhost:8080/"
        },
        "id": "BHfx6wdwg5cW",
        "outputId": "26aea1fe-12f7-407a-856b-6b140e529d86"
      },
      "source": [
        "df.drop('YearBuilt', axis = 1, inplace=True)"
      ],
      "execution_count": 11,
      "outputs": [
        {
          "output_type": "stream",
          "text": [
            "/usr/local/lib/python3.7/dist-packages/pandas/core/frame.py:4174: SettingWithCopyWarning: \n",
            "A value is trying to be set on a copy of a slice from a DataFrame\n",
            "\n",
            "See the caveats in the documentation: https://pandas.pydata.org/pandas-docs/stable/user_guide/indexing.html#returning-a-view-versus-a-copy\n",
            "  errors=errors,\n"
          ],
          "name": "stderr"
        }
      ]
    },
    {
      "cell_type": "code",
      "metadata": {
        "colab": {
          "base_uri": "https://localhost:8080/"
        },
        "id": "sntEUgc5g-9B",
        "outputId": "efd08a25-e2e8-4d8c-a5de-8e9a97cea04d"
      },
      "source": [
        "df.columns"
      ],
      "execution_count": 12,
      "outputs": [
        {
          "output_type": "execute_result",
          "data": {
            "text/plain": [
              "Index(['MSSubClass', 'MSZoning', 'LotFrontage', 'LotArea', 'Street',\n",
              "       'LotShape', '1stFlrSF', '2ndFlrSF', 'SalePrice', 'Total_Year'],\n",
              "      dtype='object')"
            ]
          },
          "metadata": {
            "tags": []
          },
          "execution_count": 12
        }
      ]
    },
    {
      "cell_type": "code",
      "metadata": {
        "id": "y4JP7rsfhZ1D"
      },
      "source": [
        "categorical_features = [\"MSSubClass\", \"MSZoning\", \"Street\", \"LotShape\"]\n",
        "out_feature = \"SalePrice\""
      ],
      "execution_count": 13,
      "outputs": []
    },
    {
      "cell_type": "code",
      "metadata": {
        "colab": {
          "base_uri": "https://localhost:8080/"
        },
        "id": "kcSGVQceicSW",
        "outputId": "9ca5e887-96c7-410e-83d7-ed9a3076fdef"
      },
      "source": [
        "from sklearn.preprocessing import LabelEncoder\n",
        "\n",
        "for cat_feature in categorical_features:\n",
        "  label_encoder = LabelEncoder()\n",
        "  df[cat_feature] = label_encoder.fit_transform(df[cat_feature])"
      ],
      "execution_count": 14,
      "outputs": [
        {
          "output_type": "stream",
          "text": [
            "/usr/local/lib/python3.7/dist-packages/ipykernel_launcher.py:5: SettingWithCopyWarning: \n",
            "A value is trying to be set on a copy of a slice from a DataFrame.\n",
            "Try using .loc[row_indexer,col_indexer] = value instead\n",
            "\n",
            "See the caveats in the documentation: https://pandas.pydata.org/pandas-docs/stable/user_guide/indexing.html#returning-a-view-versus-a-copy\n",
            "  \"\"\"\n"
          ],
          "name": "stderr"
        }
      ]
    },
    {
      "cell_type": "code",
      "metadata": {
        "colab": {
          "base_uri": "https://localhost:8080/",
          "height": 417
        },
        "id": "yAnNYtH_ilna",
        "outputId": "3ed97182-e5a9-4719-8764-9aaab5902fa1"
      },
      "source": [
        "df"
      ],
      "execution_count": 15,
      "outputs": [
        {
          "output_type": "execute_result",
          "data": {
            "text/html": [
              "<div>\n",
              "<style scoped>\n",
              "    .dataframe tbody tr th:only-of-type {\n",
              "        vertical-align: middle;\n",
              "    }\n",
              "\n",
              "    .dataframe tbody tr th {\n",
              "        vertical-align: top;\n",
              "    }\n",
              "\n",
              "    .dataframe thead th {\n",
              "        text-align: right;\n",
              "    }\n",
              "</style>\n",
              "<table border=\"1\" class=\"dataframe\">\n",
              "  <thead>\n",
              "    <tr style=\"text-align: right;\">\n",
              "      <th></th>\n",
              "      <th>MSSubClass</th>\n",
              "      <th>MSZoning</th>\n",
              "      <th>LotFrontage</th>\n",
              "      <th>LotArea</th>\n",
              "      <th>Street</th>\n",
              "      <th>LotShape</th>\n",
              "      <th>1stFlrSF</th>\n",
              "      <th>2ndFlrSF</th>\n",
              "      <th>SalePrice</th>\n",
              "      <th>Total_Year</th>\n",
              "    </tr>\n",
              "  </thead>\n",
              "  <tbody>\n",
              "    <tr>\n",
              "      <th>0</th>\n",
              "      <td>5</td>\n",
              "      <td>3</td>\n",
              "      <td>65.0</td>\n",
              "      <td>8450</td>\n",
              "      <td>1</td>\n",
              "      <td>3</td>\n",
              "      <td>856</td>\n",
              "      <td>854</td>\n",
              "      <td>208500</td>\n",
              "      <td>18</td>\n",
              "    </tr>\n",
              "    <tr>\n",
              "      <th>1</th>\n",
              "      <td>0</td>\n",
              "      <td>3</td>\n",
              "      <td>80.0</td>\n",
              "      <td>9600</td>\n",
              "      <td>1</td>\n",
              "      <td>3</td>\n",
              "      <td>1262</td>\n",
              "      <td>0</td>\n",
              "      <td>181500</td>\n",
              "      <td>45</td>\n",
              "    </tr>\n",
              "    <tr>\n",
              "      <th>2</th>\n",
              "      <td>5</td>\n",
              "      <td>3</td>\n",
              "      <td>68.0</td>\n",
              "      <td>11250</td>\n",
              "      <td>1</td>\n",
              "      <td>0</td>\n",
              "      <td>920</td>\n",
              "      <td>866</td>\n",
              "      <td>223500</td>\n",
              "      <td>20</td>\n",
              "    </tr>\n",
              "    <tr>\n",
              "      <th>3</th>\n",
              "      <td>6</td>\n",
              "      <td>3</td>\n",
              "      <td>60.0</td>\n",
              "      <td>9550</td>\n",
              "      <td>1</td>\n",
              "      <td>0</td>\n",
              "      <td>961</td>\n",
              "      <td>756</td>\n",
              "      <td>140000</td>\n",
              "      <td>106</td>\n",
              "    </tr>\n",
              "    <tr>\n",
              "      <th>4</th>\n",
              "      <td>5</td>\n",
              "      <td>3</td>\n",
              "      <td>84.0</td>\n",
              "      <td>14260</td>\n",
              "      <td>1</td>\n",
              "      <td>0</td>\n",
              "      <td>1145</td>\n",
              "      <td>1053</td>\n",
              "      <td>250000</td>\n",
              "      <td>21</td>\n",
              "    </tr>\n",
              "    <tr>\n",
              "      <th>...</th>\n",
              "      <td>...</td>\n",
              "      <td>...</td>\n",
              "      <td>...</td>\n",
              "      <td>...</td>\n",
              "      <td>...</td>\n",
              "      <td>...</td>\n",
              "      <td>...</td>\n",
              "      <td>...</td>\n",
              "      <td>...</td>\n",
              "      <td>...</td>\n",
              "    </tr>\n",
              "    <tr>\n",
              "      <th>1455</th>\n",
              "      <td>5</td>\n",
              "      <td>3</td>\n",
              "      <td>62.0</td>\n",
              "      <td>7917</td>\n",
              "      <td>1</td>\n",
              "      <td>3</td>\n",
              "      <td>953</td>\n",
              "      <td>694</td>\n",
              "      <td>175000</td>\n",
              "      <td>22</td>\n",
              "    </tr>\n",
              "    <tr>\n",
              "      <th>1456</th>\n",
              "      <td>0</td>\n",
              "      <td>3</td>\n",
              "      <td>85.0</td>\n",
              "      <td>13175</td>\n",
              "      <td>1</td>\n",
              "      <td>3</td>\n",
              "      <td>2073</td>\n",
              "      <td>0</td>\n",
              "      <td>210000</td>\n",
              "      <td>43</td>\n",
              "    </tr>\n",
              "    <tr>\n",
              "      <th>1457</th>\n",
              "      <td>6</td>\n",
              "      <td>3</td>\n",
              "      <td>66.0</td>\n",
              "      <td>9042</td>\n",
              "      <td>1</td>\n",
              "      <td>3</td>\n",
              "      <td>1188</td>\n",
              "      <td>1152</td>\n",
              "      <td>266500</td>\n",
              "      <td>80</td>\n",
              "    </tr>\n",
              "    <tr>\n",
              "      <th>1458</th>\n",
              "      <td>0</td>\n",
              "      <td>3</td>\n",
              "      <td>68.0</td>\n",
              "      <td>9717</td>\n",
              "      <td>1</td>\n",
              "      <td>3</td>\n",
              "      <td>1078</td>\n",
              "      <td>0</td>\n",
              "      <td>142125</td>\n",
              "      <td>71</td>\n",
              "    </tr>\n",
              "    <tr>\n",
              "      <th>1459</th>\n",
              "      <td>0</td>\n",
              "      <td>3</td>\n",
              "      <td>75.0</td>\n",
              "      <td>9937</td>\n",
              "      <td>1</td>\n",
              "      <td>3</td>\n",
              "      <td>1256</td>\n",
              "      <td>0</td>\n",
              "      <td>147500</td>\n",
              "      <td>56</td>\n",
              "    </tr>\n",
              "  </tbody>\n",
              "</table>\n",
              "<p>1201 rows × 10 columns</p>\n",
              "</div>"
            ],
            "text/plain": [
              "      MSSubClass  MSZoning  LotFrontage  ...  2ndFlrSF  SalePrice  Total_Year\n",
              "0              5         3         65.0  ...       854     208500          18\n",
              "1              0         3         80.0  ...         0     181500          45\n",
              "2              5         3         68.0  ...       866     223500          20\n",
              "3              6         3         60.0  ...       756     140000         106\n",
              "4              5         3         84.0  ...      1053     250000          21\n",
              "...          ...       ...          ...  ...       ...        ...         ...\n",
              "1455           5         3         62.0  ...       694     175000          22\n",
              "1456           0         3         85.0  ...         0     210000          43\n",
              "1457           6         3         66.0  ...      1152     266500          80\n",
              "1458           0         3         68.0  ...         0     142125          71\n",
              "1459           0         3         75.0  ...         0     147500          56\n",
              "\n",
              "[1201 rows x 10 columns]"
            ]
          },
          "metadata": {
            "tags": []
          },
          "execution_count": 15
        }
      ]
    },
    {
      "cell_type": "code",
      "metadata": {
        "colab": {
          "base_uri": "https://localhost:8080/"
        },
        "id": "iWmyjitDjgIs",
        "outputId": "b4ec2248-5ac9-40ff-ee47-0d35090b2a2f"
      },
      "source": [
        "# Stacking the data to convert into tensors\n",
        "import numpy as np\n",
        "cat_feat = np.stack([df['MSSubClass'],df['MSZoning'],df['Street'],df['LotShape']],1)\n",
        "cat_feat"
      ],
      "execution_count": 16,
      "outputs": [
        {
          "output_type": "execute_result",
          "data": {
            "text/plain": [
              "array([[5, 3, 1, 3],\n",
              "       [0, 3, 1, 3],\n",
              "       [5, 3, 1, 0],\n",
              "       ...,\n",
              "       [6, 3, 1, 3],\n",
              "       [0, 3, 1, 3],\n",
              "       [0, 3, 1, 3]])"
            ]
          },
          "metadata": {
            "tags": []
          },
          "execution_count": 16
        }
      ]
    },
    {
      "cell_type": "code",
      "metadata": {
        "colab": {
          "base_uri": "https://localhost:8080/"
        },
        "id": "-oVxz4LGnxdt",
        "outputId": "648d2a6f-b9ff-42fe-93f9-0b36436f7349"
      },
      "source": [
        "#Converting Numpy to Tensors\n",
        "\n",
        "import torch\n",
        "cat_feat = torch.tensor(cat_feat, dtype = torch.int64)# Categorical feature should be int\n",
        "cat_feat"
      ],
      "execution_count": 17,
      "outputs": [
        {
          "output_type": "execute_result",
          "data": {
            "text/plain": [
              "tensor([[5, 3, 1, 3],\n",
              "        [0, 3, 1, 3],\n",
              "        [5, 3, 1, 0],\n",
              "        ...,\n",
              "        [6, 3, 1, 3],\n",
              "        [0, 3, 1, 3],\n",
              "        [0, 3, 1, 3]])"
            ]
          },
          "metadata": {
            "tags": []
          },
          "execution_count": 17
        }
      ]
    },
    {
      "cell_type": "code",
      "metadata": {
        "id": "TmbOidG9oYz3"
      },
      "source": [
        "# Create continuous variable\n",
        "continuous_feature = []\n",
        "for i in df.columns:\n",
        "  if  i in categorical_features:\n",
        "    pass\n",
        "  else:\n",
        "    continuous_feature.append(i)"
      ],
      "execution_count": 18,
      "outputs": []
    },
    {
      "cell_type": "code",
      "metadata": {
        "colab": {
          "base_uri": "https://localhost:8080/"
        },
        "id": "FYL65d62qHXk",
        "outputId": "11849c53-5d1c-47c8-e518-8eeeefdb3441"
      },
      "source": [
        "continuous_feature"
      ],
      "execution_count": 19,
      "outputs": [
        {
          "output_type": "execute_result",
          "data": {
            "text/plain": [
              "['LotFrontage', 'LotArea', '1stFlrSF', '2ndFlrSF', 'SalePrice', 'Total_Year']"
            ]
          },
          "metadata": {
            "tags": []
          },
          "execution_count": 19
        }
      ]
    },
    {
      "cell_type": "code",
      "metadata": {
        "colab": {
          "base_uri": "https://localhost:8080/"
        },
        "id": "KVlewMbRgwyW",
        "outputId": "721d5c1c-7e61-4b28-9b41-3ae12b6f1443"
      },
      "source": [
        "continuous_feature.remove('SalePrice')\n",
        "continuous_feature"
      ],
      "execution_count": 20,
      "outputs": [
        {
          "output_type": "execute_result",
          "data": {
            "text/plain": [
              "['LotFrontage', 'LotArea', '1stFlrSF', '2ndFlrSF', 'Total_Year']"
            ]
          },
          "metadata": {
            "tags": []
          },
          "execution_count": 20
        }
      ]
    },
    {
      "cell_type": "code",
      "metadata": {
        "id": "I4UD-KeKqUS1"
      },
      "source": [
        "# Stacking continuous variable\n",
        "cont_feat = np.stack([df[i].values for i in continuous_feature], axis = 1)"
      ],
      "execution_count": 21,
      "outputs": []
    },
    {
      "cell_type": "code",
      "metadata": {
        "colab": {
          "base_uri": "https://localhost:8080/"
        },
        "id": "M1X-MWTrhKjS",
        "outputId": "a3a2a0c9-4573-413e-bb6e-64f3f28d5f1d"
      },
      "source": [
        "cont_feat"
      ],
      "execution_count": 22,
      "outputs": [
        {
          "output_type": "execute_result",
          "data": {
            "text/plain": [
              "array([[   65.,  8450.,   856.,   854.,    18.],\n",
              "       [   80.,  9600.,  1262.,     0.,    45.],\n",
              "       [   68., 11250.,   920.,   866.,    20.],\n",
              "       ...,\n",
              "       [   66.,  9042.,  1188.,  1152.,    80.],\n",
              "       [   68.,  9717.,  1078.,     0.,    71.],\n",
              "       [   75.,  9937.,  1256.,     0.,    56.]])"
            ]
          },
          "metadata": {
            "tags": []
          },
          "execution_count": 22
        }
      ]
    },
    {
      "cell_type": "code",
      "metadata": {
        "colab": {
          "base_uri": "https://localhost:8080/"
        },
        "id": "SJZpufh3hiA4",
        "outputId": "210af22f-b98b-4ec5-be60-4d20d586dc10"
      },
      "source": [
        "cont_feat.dtype"
      ],
      "execution_count": 23,
      "outputs": [
        {
          "output_type": "execute_result",
          "data": {
            "text/plain": [
              "dtype('float64')"
            ]
          },
          "metadata": {
            "tags": []
          },
          "execution_count": 23
        }
      ]
    },
    {
      "cell_type": "code",
      "metadata": {
        "id": "iZft6DeAhozA"
      },
      "source": [
        "cont_feat = torch.tensor(cont_feat, dtype=torch.float)"
      ],
      "execution_count": 24,
      "outputs": []
    },
    {
      "cell_type": "code",
      "metadata": {
        "colab": {
          "base_uri": "https://localhost:8080/"
        },
        "id": "qBPx1TiKh0vA",
        "outputId": "d4a25076-ca75-4dd1-ac7d-018002c23efe"
      },
      "source": [
        "cont_feat# Continuous feature should be float\n",
        "cont_feat.dtype"
      ],
      "execution_count": 25,
      "outputs": [
        {
          "output_type": "execute_result",
          "data": {
            "text/plain": [
              "torch.float32"
            ]
          },
          "metadata": {
            "tags": []
          },
          "execution_count": 25
        }
      ]
    },
    {
      "cell_type": "code",
      "metadata": {
        "colab": {
          "base_uri": "https://localhost:8080/"
        },
        "id": "bAOZqjpTh2ZV",
        "outputId": "ebbd9bc4-f4cf-4df4-ee80-2b47e054a16d"
      },
      "source": [
        "# Dependent feature\n",
        "\n",
        "dep_feature = torch.tensor(df['SalePrice'].values,dtype=torch.float).reshape(-1,1)# To get 2 Dim data\n",
        "dep_feature"
      ],
      "execution_count": 26,
      "outputs": [
        {
          "output_type": "execute_result",
          "data": {
            "text/plain": [
              "tensor([[208500.],\n",
              "        [181500.],\n",
              "        [223500.],\n",
              "        ...,\n",
              "        [266500.],\n",
              "        [142125.],\n",
              "        [147500.]])"
            ]
          },
          "metadata": {
            "tags": []
          },
          "execution_count": 26
        }
      ]
    },
    {
      "cell_type": "code",
      "metadata": {
        "colab": {
          "base_uri": "https://localhost:8080/"
        },
        "id": "TLrzQHv_irEz",
        "outputId": "432015ff-5b3b-410a-dd57-c0ee53485b52"
      },
      "source": [
        "df.info()"
      ],
      "execution_count": 27,
      "outputs": [
        {
          "output_type": "stream",
          "text": [
            "<class 'pandas.core.frame.DataFrame'>\n",
            "Int64Index: 1201 entries, 0 to 1459\n",
            "Data columns (total 10 columns):\n",
            " #   Column       Non-Null Count  Dtype  \n",
            "---  ------       --------------  -----  \n",
            " 0   MSSubClass   1201 non-null   int64  \n",
            " 1   MSZoning     1201 non-null   int64  \n",
            " 2   LotFrontage  1201 non-null   float64\n",
            " 3   LotArea      1201 non-null   int64  \n",
            " 4   Street       1201 non-null   int64  \n",
            " 5   LotShape     1201 non-null   int64  \n",
            " 6   1stFlrSF     1201 non-null   int64  \n",
            " 7   2ndFlrSF     1201 non-null   int64  \n",
            " 8   SalePrice    1201 non-null   int64  \n",
            " 9   Total_Year   1201 non-null   int64  \n",
            "dtypes: float64(1), int64(9)\n",
            "memory usage: 103.2 KB\n"
          ],
          "name": "stdout"
        }
      ]
    },
    {
      "cell_type": "code",
      "metadata": {
        "colab": {
          "base_uri": "https://localhost:8080/"
        },
        "id": "gUgJvkiLjDv1",
        "outputId": "2a170f13-9a96-487e-a545-8debb84aac11"
      },
      "source": [
        "df.shape"
      ],
      "execution_count": 28,
      "outputs": [
        {
          "output_type": "execute_result",
          "data": {
            "text/plain": [
              "(1201, 10)"
            ]
          },
          "metadata": {
            "tags": []
          },
          "execution_count": 28
        }
      ]
    },
    {
      "cell_type": "code",
      "metadata": {
        "colab": {
          "base_uri": "https://localhost:8080/"
        },
        "id": "EtocEsA4jLIo",
        "outputId": "9b405b41-ae02-4ab0-e669-4808aedc59d1"
      },
      "source": [
        "cat_feat.shape"
      ],
      "execution_count": 29,
      "outputs": [
        {
          "output_type": "execute_result",
          "data": {
            "text/plain": [
              "torch.Size([1201, 4])"
            ]
          },
          "metadata": {
            "tags": []
          },
          "execution_count": 29
        }
      ]
    },
    {
      "cell_type": "code",
      "metadata": {
        "colab": {
          "base_uri": "https://localhost:8080/"
        },
        "id": "JgLnYWmKjNEM",
        "outputId": "518df452-94e0-454d-fb34-6bc9c1b302e2"
      },
      "source": [
        "cont_feat.shape"
      ],
      "execution_count": 30,
      "outputs": [
        {
          "output_type": "execute_result",
          "data": {
            "text/plain": [
              "torch.Size([1201, 5])"
            ]
          },
          "metadata": {
            "tags": []
          },
          "execution_count": 30
        }
      ]
    },
    {
      "cell_type": "code",
      "metadata": {
        "colab": {
          "base_uri": "https://localhost:8080/"
        },
        "id": "d4CgLV76jPF9",
        "outputId": "f5a52d3e-674b-4e56-f4ea-8b58e08642dc"
      },
      "source": [
        "dep_feature.shape"
      ],
      "execution_count": 31,
      "outputs": [
        {
          "output_type": "execute_result",
          "data": {
            "text/plain": [
              "torch.Size([1201, 1])"
            ]
          },
          "metadata": {
            "tags": []
          },
          "execution_count": 31
        }
      ]
    },
    {
      "cell_type": "code",
      "metadata": {
        "colab": {
          "base_uri": "https://localhost:8080/"
        },
        "id": "bNxls9819uPC",
        "outputId": "09016811-8dad-479f-a024-10f6183b4d06"
      },
      "source": [
        "# we need to set the dimension to perform the embedding\n",
        "\n",
        "cat_dim = [len(df[col].unique()) for col in categorical_features]\n",
        "cat_dim"
      ],
      "execution_count": 32,
      "outputs": [
        {
          "output_type": "execute_result",
          "data": {
            "text/plain": [
              "[15, 5, 2, 4]"
            ]
          },
          "metadata": {
            "tags": []
          },
          "execution_count": 32
        }
      ]
    },
    {
      "cell_type": "code",
      "metadata": {
        "colab": {
          "base_uri": "https://localhost:8080/"
        },
        "id": "TdzjYN1X_O4g",
        "outputId": "1a1c693b-fe56-424d-ece1-798b6121f160"
      },
      "source": [
        "# Embedding Dimension\n",
        "# for the inputs we use the length of the columns and for the output we use the formula - Thumb rule\n",
        "\n",
        "embed_dim = [(x, min(50, (x+1)//2)) for x in cat_dim]\n",
        "embed_dim #It helps to create the features during the column"
      ],
      "execution_count": 33,
      "outputs": [
        {
          "output_type": "execute_result",
          "data": {
            "text/plain": [
              "[(15, 8), (5, 3), (2, 1), (4, 2)]"
            ]
          },
          "metadata": {
            "tags": []
          },
          "execution_count": 33
        }
      ]
    },
    {
      "cell_type": "code",
      "metadata": {
        "id": "Qvncs3qpjQi1"
      },
      "source": [
        "import torch\n",
        "import torch.nn as nn\n",
        "import torch.nn.functional as fun"
      ],
      "execution_count": 34,
      "outputs": []
    },
    {
      "cell_type": "code",
      "metadata": {
        "id": "jnAhlZNkkXeC"
      },
      "source": [
        "class ANN_Model(nn.Module):\n",
        "  def __init__(self, embed_dim, n_cond, out_sz, layers, p = 0.5):\n",
        "    super().__init__() # calling the  nn.Module parameters\n",
        "    self.embedd = nn.ModuleList([nn.Embedding(inp,out) for inp,out in embed_dim])\n",
        "    self.drop_out = nn.Dropout(p) # Regularization\n",
        "    self.bn_cont = nn.BatchNorm1d(n_cond)# helps us for the less computation\n",
        "    layerlist = []\n",
        "    n_emb = sum((out for inp,out in embed_dim))\n",
        "    n_in = n_emb + n_cond\n",
        "    print('n_in:', n_in)\n",
        "\n",
        "    for i in layers:\n",
        "      layerlist.append(nn.Linear(n_in,i)) \n",
        "      layerlist.append(nn.ReLU(inplace=True))\n",
        "      layerlist.append(nn.BatchNorm1d(i))\n",
        "      layerlist.append(nn.Dropout(p))\n",
        "      n_in = i\n",
        "    layerlist.append(nn.Linear(layers[-1],out_sz))\n",
        "    print('layerlist:', layerlist)\n",
        "\n",
        "    self.layers = nn.Sequential(*layerlist)\n",
        "    \n",
        "  def forward(self, x_cat, x_cont):\n",
        "    embeddings = []\n",
        "    for i,e in enumerate(self.embedd):\n",
        "      embeddings.append(e(x_cat[:,i]))\n",
        "    x = torch.cat(embeddings, 1)\n",
        "    x = self.drop_out(x)\n",
        "    x_cont = self.bn_cont(x_cont)\n",
        "    x = torch.cat([x, x_cont], 1)\n",
        "    x = self.layers(x)\n",
        "    return x"
      ],
      "execution_count": 35,
      "outputs": []
    },
    {
      "cell_type": "code",
      "metadata": {
        "colab": {
          "base_uri": "https://localhost:8080/"
        },
        "id": "YsKcJZgnS0dY",
        "outputId": "a119b8ac-3a19-4774-b33f-b6aba16ff22a"
      },
      "source": [
        "len(continuous_feature)"
      ],
      "execution_count": 36,
      "outputs": [
        {
          "output_type": "execute_result",
          "data": {
            "text/plain": [
              "5"
            ]
          },
          "metadata": {
            "tags": []
          },
          "execution_count": 36
        }
      ]
    },
    {
      "cell_type": "code",
      "metadata": {
        "colab": {
          "base_uri": "https://localhost:8080/"
        },
        "id": "8troKtlL5Xs1",
        "outputId": "beb2597e-42cf-4648-f518-9b415be2d363"
      },
      "source": [
        "torch.manual_seed(100)\n",
        "model=ANN_Model(embed_dim,len(continuous_feature),1,[100,50],p=0.5)"
      ],
      "execution_count": 37,
      "outputs": [
        {
          "output_type": "stream",
          "text": [
            "n_in: 19\n",
            "layerlist: [Linear(in_features=19, out_features=100, bias=True), ReLU(inplace=True), BatchNorm1d(100, eps=1e-05, momentum=0.1, affine=True, track_running_stats=True), Dropout(p=0.5, inplace=False), Linear(in_features=100, out_features=50, bias=True), ReLU(inplace=True), BatchNorm1d(50, eps=1e-05, momentum=0.1, affine=True, track_running_stats=True), Dropout(p=0.5, inplace=False), Linear(in_features=50, out_features=1, bias=True)]\n"
          ],
          "name": "stdout"
        }
      ]
    },
    {
      "cell_type": "code",
      "metadata": {
        "colab": {
          "base_uri": "https://localhost:8080/"
        },
        "id": "vRBssonAF3Vf",
        "outputId": "4a051db4-a3b2-410e-8d53-b2a8412e10e4"
      },
      "source": [
        "model"
      ],
      "execution_count": 38,
      "outputs": [
        {
          "output_type": "execute_result",
          "data": {
            "text/plain": [
              "ANN_Model(\n",
              "  (embedd): ModuleList(\n",
              "    (0): Embedding(15, 8)\n",
              "    (1): Embedding(5, 3)\n",
              "    (2): Embedding(2, 1)\n",
              "    (3): Embedding(4, 2)\n",
              "  )\n",
              "  (drop_out): Dropout(p=0.5, inplace=False)\n",
              "  (bn_cont): BatchNorm1d(5, eps=1e-05, momentum=0.1, affine=True, track_running_stats=True)\n",
              "  (layers): Sequential(\n",
              "    (0): Linear(in_features=19, out_features=100, bias=True)\n",
              "    (1): ReLU(inplace=True)\n",
              "    (2): BatchNorm1d(100, eps=1e-05, momentum=0.1, affine=True, track_running_stats=True)\n",
              "    (3): Dropout(p=0.5, inplace=False)\n",
              "    (4): Linear(in_features=100, out_features=50, bias=True)\n",
              "    (5): ReLU(inplace=True)\n",
              "    (6): BatchNorm1d(50, eps=1e-05, momentum=0.1, affine=True, track_running_stats=True)\n",
              "    (7): Dropout(p=0.5, inplace=False)\n",
              "    (8): Linear(in_features=50, out_features=1, bias=True)\n",
              "  )\n",
              ")"
            ]
          },
          "metadata": {
            "tags": []
          },
          "execution_count": 38
        }
      ]
    },
    {
      "cell_type": "code",
      "metadata": {
        "colab": {
          "base_uri": "https://localhost:8080/"
        },
        "id": "jVIbEas2phUa",
        "outputId": "81c1af48-40f6-4db3-d5bd-8d2526d881cc"
      },
      "source": [
        "cont_feat.shape"
      ],
      "execution_count": 39,
      "outputs": [
        {
          "output_type": "execute_result",
          "data": {
            "text/plain": [
              "torch.Size([1201, 5])"
            ]
          },
          "metadata": {
            "tags": []
          },
          "execution_count": 39
        }
      ]
    },
    {
      "cell_type": "code",
      "metadata": {
        "id": "IWdZcdY-rqq1"
      },
      "source": [
        "loss_function=nn.MSELoss()\n",
        "optimizer=torch.optim.Adam(model.parameters(),lr=0.01)"
      ],
      "execution_count": 40,
      "outputs": []
    },
    {
      "cell_type": "code",
      "metadata": {
        "id": "K-cJs_UMF7Pc"
      },
      "source": [
        "\n",
        "batch_size=1200\n",
        "test_size=int(batch_size*0.15)\n",
        "train_categorical=cat_feat[:batch_size-test_size]\n",
        "test_categorical=cat_feat[batch_size-test_size:batch_size]"
      ],
      "execution_count": 41,
      "outputs": []
    },
    {
      "cell_type": "code",
      "metadata": {
        "id": "6gHL3OBqTzy0"
      },
      "source": [
        "train_cont=cont_feat[:batch_size-test_size]\n",
        "test_cont=cont_feat[batch_size-test_size:batch_size]"
      ],
      "execution_count": 42,
      "outputs": []
    },
    {
      "cell_type": "code",
      "metadata": {
        "id": "iaTF99H4Vkqj"
      },
      "source": [
        "y_train=dep_feature[:batch_size-test_size]\n",
        "y_test=dep_feature[batch_size-test_size:batch_size]"
      ],
      "execution_count": 43,
      "outputs": []
    },
    {
      "cell_type": "code",
      "metadata": {
        "colab": {
          "base_uri": "https://localhost:8080/"
        },
        "id": "OpUjBqqbVlYz",
        "outputId": "99d5efda-f2d5-40a1-c9b8-03cc6b110b45"
      },
      "source": [
        "epochs=10000\n",
        "final_losses=[]\n",
        "for i in range(epochs):\n",
        "    i=i+1\n",
        "    y_pred=model(train_categorical,train_cont)\n",
        "    loss=torch.sqrt(loss_function(y_pred,y_train)) ### RMSE\n",
        "    final_losses.append(loss)\n",
        "    if i%10==1:\n",
        "        print(\"Epoch number: {} and the loss : {}\".format(i,loss.item()))\n",
        "    optimizer.zero_grad()\n",
        "    loss.backward()\n",
        "    optimizer.step()"
      ],
      "execution_count": 44,
      "outputs": [
        {
          "output_type": "stream",
          "text": [
            "Epoch number: 1 and the loss : 200496.78125\n",
            "Epoch number: 11 and the loss : 200493.65625\n",
            "Epoch number: 21 and the loss : 200489.265625\n",
            "Epoch number: 31 and the loss : 200482.890625\n",
            "Epoch number: 41 and the loss : 200473.875\n",
            "Epoch number: 51 and the loss : 200461.75\n",
            "Epoch number: 61 and the loss : 200446.984375\n",
            "Epoch number: 71 and the loss : 200430.078125\n",
            "Epoch number: 81 and the loss : 200409.265625\n",
            "Epoch number: 91 and the loss : 200384.9375\n",
            "Epoch number: 101 and the loss : 200356.484375\n",
            "Epoch number: 111 and the loss : 200324.3125\n",
            "Epoch number: 121 and the loss : 200293.015625\n",
            "Epoch number: 131 and the loss : 200253.578125\n",
            "Epoch number: 141 and the loss : 200208.8125\n",
            "Epoch number: 151 and the loss : 200162.734375\n",
            "Epoch number: 161 and the loss : 200117.671875\n",
            "Epoch number: 171 and the loss : 200063.03125\n",
            "Epoch number: 181 and the loss : 200009.890625\n",
            "Epoch number: 191 and the loss : 199950.15625\n",
            "Epoch number: 201 and the loss : 199880.890625\n",
            "Epoch number: 211 and the loss : 199822.09375\n",
            "Epoch number: 221 and the loss : 199743.609375\n",
            "Epoch number: 231 and the loss : 199672.703125\n",
            "Epoch number: 241 and the loss : 199595.8125\n",
            "Epoch number: 251 and the loss : 199503.640625\n",
            "Epoch number: 261 and the loss : 199402.953125\n",
            "Epoch number: 271 and the loss : 199340.875\n",
            "Epoch number: 281 and the loss : 199257.96875\n",
            "Epoch number: 291 and the loss : 199134.46875\n",
            "Epoch number: 301 and the loss : 199039.578125\n",
            "Epoch number: 311 and the loss : 198929.40625\n",
            "Epoch number: 321 and the loss : 198842.703125\n",
            "Epoch number: 331 and the loss : 198700.984375\n",
            "Epoch number: 341 and the loss : 198602.40625\n",
            "Epoch number: 351 and the loss : 198511.21875\n",
            "Epoch number: 361 and the loss : 198386.625\n",
            "Epoch number: 371 and the loss : 198254.75\n",
            "Epoch number: 381 and the loss : 198093.265625\n",
            "Epoch number: 391 and the loss : 198030.0\n",
            "Epoch number: 401 and the loss : 197894.359375\n",
            "Epoch number: 411 and the loss : 197748.84375\n",
            "Epoch number: 421 and the loss : 197589.203125\n",
            "Epoch number: 431 and the loss : 197457.609375\n",
            "Epoch number: 441 and the loss : 197280.4375\n",
            "Epoch number: 451 and the loss : 197137.96875\n",
            "Epoch number: 461 and the loss : 196949.65625\n",
            "Epoch number: 471 and the loss : 196915.578125\n",
            "Epoch number: 481 and the loss : 196701.65625\n",
            "Epoch number: 491 and the loss : 196484.046875\n",
            "Epoch number: 501 and the loss : 196429.90625\n",
            "Epoch number: 511 and the loss : 196240.546875\n",
            "Epoch number: 521 and the loss : 196062.96875\n",
            "Epoch number: 531 and the loss : 195841.21875\n",
            "Epoch number: 541 and the loss : 195665.578125\n",
            "Epoch number: 551 and the loss : 195471.59375\n",
            "Epoch number: 561 and the loss : 195300.375\n",
            "Epoch number: 571 and the loss : 195054.046875\n",
            "Epoch number: 581 and the loss : 194821.984375\n",
            "Epoch number: 591 and the loss : 194630.34375\n",
            "Epoch number: 601 and the loss : 194536.09375\n",
            "Epoch number: 611 and the loss : 194354.0625\n",
            "Epoch number: 621 and the loss : 194084.71875\n",
            "Epoch number: 631 and the loss : 193846.78125\n",
            "Epoch number: 641 and the loss : 193640.53125\n",
            "Epoch number: 651 and the loss : 193521.328125\n",
            "Epoch number: 661 and the loss : 193261.65625\n",
            "Epoch number: 671 and the loss : 193083.9375\n",
            "Epoch number: 681 and the loss : 192819.75\n",
            "Epoch number: 691 and the loss : 192513.65625\n",
            "Epoch number: 701 and the loss : 192292.21875\n",
            "Epoch number: 711 and the loss : 192263.53125\n",
            "Epoch number: 721 and the loss : 192026.125\n",
            "Epoch number: 731 and the loss : 191590.203125\n",
            "Epoch number: 741 and the loss : 191456.90625\n",
            "Epoch number: 751 and the loss : 191154.921875\n",
            "Epoch number: 761 and the loss : 190960.703125\n",
            "Epoch number: 771 and the loss : 190784.703125\n",
            "Epoch number: 781 and the loss : 190508.859375\n",
            "Epoch number: 791 and the loss : 190272.75\n",
            "Epoch number: 801 and the loss : 189976.078125\n",
            "Epoch number: 811 and the loss : 189680.0625\n",
            "Epoch number: 821 and the loss : 189742.5625\n",
            "Epoch number: 831 and the loss : 189290.21875\n",
            "Epoch number: 841 and the loss : 189057.828125\n",
            "Epoch number: 851 and the loss : 188867.671875\n",
            "Epoch number: 861 and the loss : 188457.109375\n",
            "Epoch number: 871 and the loss : 188157.875\n",
            "Epoch number: 881 and the loss : 188030.28125\n",
            "Epoch number: 891 and the loss : 187515.46875\n",
            "Epoch number: 901 and the loss : 187491.53125\n",
            "Epoch number: 911 and the loss : 187334.046875\n",
            "Epoch number: 921 and the loss : 186642.65625\n",
            "Epoch number: 931 and the loss : 186587.125\n",
            "Epoch number: 941 and the loss : 186253.015625\n",
            "Epoch number: 951 and the loss : 185861.734375\n",
            "Epoch number: 961 and the loss : 185594.359375\n",
            "Epoch number: 971 and the loss : 185326.953125\n",
            "Epoch number: 981 and the loss : 185068.0625\n",
            "Epoch number: 991 and the loss : 184826.6875\n",
            "Epoch number: 1001 and the loss : 184493.984375\n",
            "Epoch number: 1011 and the loss : 184047.890625\n",
            "Epoch number: 1021 and the loss : 183833.640625\n",
            "Epoch number: 1031 and the loss : 183558.734375\n",
            "Epoch number: 1041 and the loss : 183391.125\n",
            "Epoch number: 1051 and the loss : 182916.34375\n",
            "Epoch number: 1061 and the loss : 182661.125\n",
            "Epoch number: 1071 and the loss : 182388.390625\n",
            "Epoch number: 1081 and the loss : 182027.34375\n",
            "Epoch number: 1091 and the loss : 181545.03125\n",
            "Epoch number: 1101 and the loss : 181391.078125\n",
            "Epoch number: 1111 and the loss : 180798.71875\n",
            "Epoch number: 1121 and the loss : 180501.765625\n",
            "Epoch number: 1131 and the loss : 180534.578125\n",
            "Epoch number: 1141 and the loss : 180055.09375\n",
            "Epoch number: 1151 and the loss : 179587.140625\n",
            "Epoch number: 1161 and the loss : 179486.046875\n",
            "Epoch number: 1171 and the loss : 179236.765625\n",
            "Epoch number: 1181 and the loss : 178517.765625\n",
            "Epoch number: 1191 and the loss : 178027.515625\n",
            "Epoch number: 1201 and the loss : 178179.828125\n",
            "Epoch number: 1211 and the loss : 177632.015625\n",
            "Epoch number: 1221 and the loss : 177743.828125\n",
            "Epoch number: 1231 and the loss : 176364.546875\n",
            "Epoch number: 1241 and the loss : 176275.0\n",
            "Epoch number: 1251 and the loss : 175811.84375\n",
            "Epoch number: 1261 and the loss : 175578.0\n",
            "Epoch number: 1271 and the loss : 175625.59375\n",
            "Epoch number: 1281 and the loss : 174967.078125\n",
            "Epoch number: 1291 and the loss : 174649.953125\n",
            "Epoch number: 1301 and the loss : 174334.484375\n",
            "Epoch number: 1311 and the loss : 173711.171875\n",
            "Epoch number: 1321 and the loss : 173130.953125\n",
            "Epoch number: 1331 and the loss : 173673.34375\n",
            "Epoch number: 1341 and the loss : 172937.375\n",
            "Epoch number: 1351 and the loss : 172308.828125\n",
            "Epoch number: 1361 and the loss : 172187.953125\n",
            "Epoch number: 1371 and the loss : 171859.609375\n",
            "Epoch number: 1381 and the loss : 171365.78125\n",
            "Epoch number: 1391 and the loss : 170477.09375\n",
            "Epoch number: 1401 and the loss : 170578.25\n",
            "Epoch number: 1411 and the loss : 169844.609375\n",
            "Epoch number: 1421 and the loss : 169768.640625\n",
            "Epoch number: 1431 and the loss : 169457.109375\n",
            "Epoch number: 1441 and the loss : 168813.40625\n",
            "Epoch number: 1451 and the loss : 168817.359375\n",
            "Epoch number: 1461 and the loss : 168048.703125\n",
            "Epoch number: 1471 and the loss : 167921.515625\n",
            "Epoch number: 1481 and the loss : 167410.671875\n",
            "Epoch number: 1491 and the loss : 167084.328125\n",
            "Epoch number: 1501 and the loss : 166800.734375\n",
            "Epoch number: 1511 and the loss : 165401.234375\n",
            "Epoch number: 1521 and the loss : 165950.890625\n",
            "Epoch number: 1531 and the loss : 165503.625\n",
            "Epoch number: 1541 and the loss : 164729.03125\n",
            "Epoch number: 1551 and the loss : 164833.671875\n",
            "Epoch number: 1561 and the loss : 164248.015625\n",
            "Epoch number: 1571 and the loss : 163672.359375\n",
            "Epoch number: 1581 and the loss : 163046.421875\n",
            "Epoch number: 1591 and the loss : 163067.203125\n",
            "Epoch number: 1601 and the loss : 162682.9375\n",
            "Epoch number: 1611 and the loss : 161438.53125\n",
            "Epoch number: 1621 and the loss : 161059.625\n",
            "Epoch number: 1631 and the loss : 160736.328125\n",
            "Epoch number: 1641 and the loss : 161150.78125\n",
            "Epoch number: 1651 and the loss : 160528.109375\n",
            "Epoch number: 1661 and the loss : 160481.046875\n",
            "Epoch number: 1671 and the loss : 159112.328125\n",
            "Epoch number: 1681 and the loss : 158860.859375\n",
            "Epoch number: 1691 and the loss : 158676.59375\n",
            "Epoch number: 1701 and the loss : 157816.640625\n",
            "Epoch number: 1711 and the loss : 157371.734375\n",
            "Epoch number: 1721 and the loss : 156922.765625\n",
            "Epoch number: 1731 and the loss : 157305.5625\n",
            "Epoch number: 1741 and the loss : 156819.234375\n",
            "Epoch number: 1751 and the loss : 156564.046875\n",
            "Epoch number: 1761 and the loss : 154779.96875\n",
            "Epoch number: 1771 and the loss : 154997.46875\n",
            "Epoch number: 1781 and the loss : 154871.296875\n",
            "Epoch number: 1791 and the loss : 154266.421875\n",
            "Epoch number: 1801 and the loss : 153979.234375\n",
            "Epoch number: 1811 and the loss : 153095.21875\n",
            "Epoch number: 1821 and the loss : 152891.171875\n",
            "Epoch number: 1831 and the loss : 152697.1875\n",
            "Epoch number: 1841 and the loss : 152445.15625\n",
            "Epoch number: 1851 and the loss : 150453.125\n",
            "Epoch number: 1861 and the loss : 150879.78125\n",
            "Epoch number: 1871 and the loss : 150587.625\n",
            "Epoch number: 1881 and the loss : 149299.25\n",
            "Epoch number: 1891 and the loss : 148747.03125\n",
            "Epoch number: 1901 and the loss : 149082.234375\n",
            "Epoch number: 1911 and the loss : 149164.375\n",
            "Epoch number: 1921 and the loss : 148285.28125\n",
            "Epoch number: 1931 and the loss : 147501.3125\n",
            "Epoch number: 1941 and the loss : 147125.734375\n",
            "Epoch number: 1951 and the loss : 147172.125\n",
            "Epoch number: 1961 and the loss : 145794.53125\n",
            "Epoch number: 1971 and the loss : 146075.109375\n",
            "Epoch number: 1981 and the loss : 146355.671875\n",
            "Epoch number: 1991 and the loss : 145314.71875\n",
            "Epoch number: 2001 and the loss : 144611.28125\n",
            "Epoch number: 2011 and the loss : 142974.953125\n",
            "Epoch number: 2021 and the loss : 143478.6875\n",
            "Epoch number: 2031 and the loss : 143245.703125\n",
            "Epoch number: 2041 and the loss : 142325.640625\n",
            "Epoch number: 2051 and the loss : 141236.921875\n",
            "Epoch number: 2061 and the loss : 141651.390625\n",
            "Epoch number: 2071 and the loss : 141564.8125\n",
            "Epoch number: 2081 and the loss : 140070.796875\n",
            "Epoch number: 2091 and the loss : 139759.34375\n",
            "Epoch number: 2101 and the loss : 140115.953125\n",
            "Epoch number: 2111 and the loss : 139084.0\n",
            "Epoch number: 2121 and the loss : 138770.28125\n",
            "Epoch number: 2131 and the loss : 138928.609375\n",
            "Epoch number: 2141 and the loss : 138345.953125\n",
            "Epoch number: 2151 and the loss : 137278.546875\n",
            "Epoch number: 2161 and the loss : 136694.9375\n",
            "Epoch number: 2171 and the loss : 136547.46875\n",
            "Epoch number: 2181 and the loss : 136252.234375\n",
            "Epoch number: 2191 and the loss : 135990.265625\n",
            "Epoch number: 2201 and the loss : 135116.125\n",
            "Epoch number: 2211 and the loss : 134232.078125\n",
            "Epoch number: 2221 and the loss : 134001.265625\n",
            "Epoch number: 2231 and the loss : 133765.6875\n",
            "Epoch number: 2241 and the loss : 132382.09375\n",
            "Epoch number: 2251 and the loss : 132518.859375\n",
            "Epoch number: 2261 and the loss : 130774.5390625\n",
            "Epoch number: 2271 and the loss : 131057.734375\n",
            "Epoch number: 2281 and the loss : 130707.3515625\n",
            "Epoch number: 2291 and the loss : 129896.3046875\n",
            "Epoch number: 2301 and the loss : 130400.1015625\n",
            "Epoch number: 2311 and the loss : 129246.609375\n",
            "Epoch number: 2321 and the loss : 129253.1015625\n",
            "Epoch number: 2331 and the loss : 129361.9765625\n",
            "Epoch number: 2341 and the loss : 128037.671875\n",
            "Epoch number: 2351 and the loss : 126980.5859375\n",
            "Epoch number: 2361 and the loss : 126869.53125\n",
            "Epoch number: 2371 and the loss : 126113.4609375\n",
            "Epoch number: 2381 and the loss : 126028.9296875\n",
            "Epoch number: 2391 and the loss : 125211.7421875\n",
            "Epoch number: 2401 and the loss : 124816.7734375\n",
            "Epoch number: 2411 and the loss : 123641.484375\n",
            "Epoch number: 2421 and the loss : 124617.5625\n",
            "Epoch number: 2431 and the loss : 122914.1875\n",
            "Epoch number: 2441 and the loss : 123869.5703125\n",
            "Epoch number: 2451 and the loss : 121483.765625\n",
            "Epoch number: 2461 and the loss : 121243.3515625\n",
            "Epoch number: 2471 and the loss : 121237.1171875\n",
            "Epoch number: 2481 and the loss : 121692.4375\n",
            "Epoch number: 2491 and the loss : 120916.7578125\n",
            "Epoch number: 2501 and the loss : 120307.8203125\n",
            "Epoch number: 2511 and the loss : 121085.2890625\n",
            "Epoch number: 2521 and the loss : 118261.5390625\n",
            "Epoch number: 2531 and the loss : 118954.328125\n",
            "Epoch number: 2541 and the loss : 117893.6015625\n",
            "Epoch number: 2551 and the loss : 117945.8828125\n",
            "Epoch number: 2561 and the loss : 117586.1640625\n",
            "Epoch number: 2571 and the loss : 117517.8984375\n",
            "Epoch number: 2581 and the loss : 116762.5625\n",
            "Epoch number: 2591 and the loss : 116257.2734375\n",
            "Epoch number: 2601 and the loss : 114629.7109375\n",
            "Epoch number: 2611 and the loss : 115271.078125\n",
            "Epoch number: 2621 and the loss : 115110.4453125\n",
            "Epoch number: 2631 and the loss : 114273.1484375\n",
            "Epoch number: 2641 and the loss : 113102.6796875\n",
            "Epoch number: 2651 and the loss : 113995.15625\n",
            "Epoch number: 2661 and the loss : 113479.3125\n",
            "Epoch number: 2671 and the loss : 111987.7578125\n",
            "Epoch number: 2681 and the loss : 111631.7578125\n",
            "Epoch number: 2691 and the loss : 110627.1796875\n",
            "Epoch number: 2701 and the loss : 110895.3671875\n",
            "Epoch number: 2711 and the loss : 109897.6328125\n",
            "Epoch number: 2721 and the loss : 110212.546875\n",
            "Epoch number: 2731 and the loss : 109753.7421875\n",
            "Epoch number: 2741 and the loss : 108595.78125\n",
            "Epoch number: 2751 and the loss : 108080.2578125\n",
            "Epoch number: 2761 and the loss : 107724.4921875\n",
            "Epoch number: 2771 and the loss : 108109.921875\n",
            "Epoch number: 2781 and the loss : 107340.6484375\n",
            "Epoch number: 2791 and the loss : 105272.1796875\n",
            "Epoch number: 2801 and the loss : 104758.3203125\n",
            "Epoch number: 2811 and the loss : 105513.8828125\n",
            "Epoch number: 2821 and the loss : 103604.2578125\n",
            "Epoch number: 2831 and the loss : 103915.09375\n",
            "Epoch number: 2841 and the loss : 103008.6328125\n",
            "Epoch number: 2851 and the loss : 102796.2890625\n",
            "Epoch number: 2861 and the loss : 103134.40625\n",
            "Epoch number: 2871 and the loss : 101408.296875\n",
            "Epoch number: 2881 and the loss : 102245.6015625\n",
            "Epoch number: 2891 and the loss : 101283.0625\n",
            "Epoch number: 2901 and the loss : 100604.6328125\n",
            "Epoch number: 2911 and the loss : 100421.265625\n",
            "Epoch number: 2921 and the loss : 99607.671875\n",
            "Epoch number: 2931 and the loss : 100441.0390625\n",
            "Epoch number: 2941 and the loss : 98106.4453125\n",
            "Epoch number: 2951 and the loss : 99240.3046875\n",
            "Epoch number: 2961 and the loss : 98256.7578125\n",
            "Epoch number: 2971 and the loss : 97331.109375\n",
            "Epoch number: 2981 and the loss : 96455.9453125\n",
            "Epoch number: 2991 and the loss : 96156.6953125\n",
            "Epoch number: 3001 and the loss : 97720.7578125\n",
            "Epoch number: 3011 and the loss : 95609.28125\n",
            "Epoch number: 3021 and the loss : 94184.4375\n",
            "Epoch number: 3031 and the loss : 94322.7265625\n",
            "Epoch number: 3041 and the loss : 94442.6484375\n",
            "Epoch number: 3051 and the loss : 92623.6640625\n",
            "Epoch number: 3061 and the loss : 93984.1640625\n",
            "Epoch number: 3071 and the loss : 93153.546875\n",
            "Epoch number: 3081 and the loss : 92449.0078125\n",
            "Epoch number: 3091 and the loss : 91327.890625\n",
            "Epoch number: 3101 and the loss : 90984.6328125\n",
            "Epoch number: 3111 and the loss : 90806.7421875\n",
            "Epoch number: 3121 and the loss : 91440.421875\n",
            "Epoch number: 3131 and the loss : 88669.0625\n",
            "Epoch number: 3141 and the loss : 89338.3984375\n",
            "Epoch number: 3151 and the loss : 89696.6328125\n",
            "Epoch number: 3161 and the loss : 87802.6171875\n",
            "Epoch number: 3171 and the loss : 89280.46875\n",
            "Epoch number: 3181 and the loss : 87722.75\n",
            "Epoch number: 3191 and the loss : 86757.90625\n",
            "Epoch number: 3201 and the loss : 87099.5625\n",
            "Epoch number: 3211 and the loss : 86078.7890625\n",
            "Epoch number: 3221 and the loss : 84860.578125\n",
            "Epoch number: 3231 and the loss : 86568.390625\n",
            "Epoch number: 3241 and the loss : 83522.84375\n",
            "Epoch number: 3251 and the loss : 84743.1484375\n",
            "Epoch number: 3261 and the loss : 83557.4140625\n",
            "Epoch number: 3271 and the loss : 83675.5546875\n",
            "Epoch number: 3281 and the loss : 83458.375\n",
            "Epoch number: 3291 and the loss : 82258.625\n",
            "Epoch number: 3301 and the loss : 84691.5234375\n",
            "Epoch number: 3311 and the loss : 81062.3828125\n",
            "Epoch number: 3321 and the loss : 83062.25\n",
            "Epoch number: 3331 and the loss : 80218.3203125\n",
            "Epoch number: 3341 and the loss : 78687.3203125\n",
            "Epoch number: 3351 and the loss : 78887.28125\n",
            "Epoch number: 3361 and the loss : 78566.015625\n",
            "Epoch number: 3371 and the loss : 81346.625\n",
            "Epoch number: 3381 and the loss : 78294.953125\n",
            "Epoch number: 3391 and the loss : 76246.0546875\n",
            "Epoch number: 3401 and the loss : 75349.8671875\n",
            "Epoch number: 3411 and the loss : 76756.3359375\n",
            "Epoch number: 3421 and the loss : 75039.1640625\n",
            "Epoch number: 3431 and the loss : 75039.578125\n",
            "Epoch number: 3441 and the loss : 74871.3203125\n",
            "Epoch number: 3451 and the loss : 74907.6796875\n",
            "Epoch number: 3461 and the loss : 74342.296875\n",
            "Epoch number: 3471 and the loss : 73535.546875\n",
            "Epoch number: 3481 and the loss : 73422.296875\n",
            "Epoch number: 3491 and the loss : 72856.4609375\n",
            "Epoch number: 3501 and the loss : 71396.1171875\n",
            "Epoch number: 3511 and the loss : 74493.9140625\n",
            "Epoch number: 3521 and the loss : 72820.3515625\n",
            "Epoch number: 3531 and the loss : 70833.84375\n",
            "Epoch number: 3541 and the loss : 71852.09375\n",
            "Epoch number: 3551 and the loss : 70346.1171875\n",
            "Epoch number: 3561 and the loss : 69768.9296875\n",
            "Epoch number: 3571 and the loss : 68882.28125\n",
            "Epoch number: 3581 and the loss : 68814.921875\n",
            "Epoch number: 3591 and the loss : 68657.0703125\n",
            "Epoch number: 3601 and the loss : 66593.2265625\n",
            "Epoch number: 3611 and the loss : 69145.7890625\n",
            "Epoch number: 3621 and the loss : 68180.5625\n",
            "Epoch number: 3631 and the loss : 66578.5078125\n",
            "Epoch number: 3641 and the loss : 66414.296875\n",
            "Epoch number: 3651 and the loss : 65614.1328125\n",
            "Epoch number: 3661 and the loss : 66533.8046875\n",
            "Epoch number: 3671 and the loss : 64828.01953125\n",
            "Epoch number: 3681 and the loss : 65866.75\n",
            "Epoch number: 3691 and the loss : 64212.26171875\n",
            "Epoch number: 3701 and the loss : 64127.8359375\n",
            "Epoch number: 3711 and the loss : 64399.109375\n",
            "Epoch number: 3721 and the loss : 63597.78515625\n",
            "Epoch number: 3731 and the loss : 60408.87890625\n",
            "Epoch number: 3741 and the loss : 61617.58984375\n",
            "Epoch number: 3751 and the loss : 62702.8515625\n",
            "Epoch number: 3761 and the loss : 62238.68359375\n",
            "Epoch number: 3771 and the loss : 59532.9609375\n",
            "Epoch number: 3781 and the loss : 58859.7890625\n",
            "Epoch number: 3791 and the loss : 60498.1953125\n",
            "Epoch number: 3801 and the loss : 60008.55859375\n",
            "Epoch number: 3811 and the loss : 59571.078125\n",
            "Epoch number: 3821 and the loss : 59914.625\n",
            "Epoch number: 3831 and the loss : 57744.05859375\n",
            "Epoch number: 3841 and the loss : 56567.25390625\n",
            "Epoch number: 3851 and the loss : 57605.98046875\n",
            "Epoch number: 3861 and the loss : 58154.80078125\n",
            "Epoch number: 3871 and the loss : 55390.27734375\n",
            "Epoch number: 3881 and the loss : 54574.25390625\n",
            "Epoch number: 3891 and the loss : 54450.87109375\n",
            "Epoch number: 3901 and the loss : 55564.3984375\n",
            "Epoch number: 3911 and the loss : 55705.38671875\n",
            "Epoch number: 3921 and the loss : 55410.9765625\n",
            "Epoch number: 3931 and the loss : 55074.578125\n",
            "Epoch number: 3941 and the loss : 53856.10546875\n",
            "Epoch number: 3951 and the loss : 53972.67578125\n",
            "Epoch number: 3961 and the loss : 53670.08984375\n",
            "Epoch number: 3971 and the loss : 53871.91796875\n",
            "Epoch number: 3981 and the loss : 53560.98828125\n",
            "Epoch number: 3991 and the loss : 53036.31640625\n",
            "Epoch number: 4001 and the loss : 53029.90625\n",
            "Epoch number: 4011 and the loss : 49733.28515625\n",
            "Epoch number: 4021 and the loss : 53582.04296875\n",
            "Epoch number: 4031 and the loss : 49358.92578125\n",
            "Epoch number: 4041 and the loss : 50391.1796875\n",
            "Epoch number: 4051 and the loss : 51490.62890625\n",
            "Epoch number: 4061 and the loss : 48862.140625\n",
            "Epoch number: 4071 and the loss : 48890.828125\n",
            "Epoch number: 4081 and the loss : 47805.3515625\n",
            "Epoch number: 4091 and the loss : 48879.2421875\n",
            "Epoch number: 4101 and the loss : 48037.21484375\n",
            "Epoch number: 4111 and the loss : 48945.10546875\n",
            "Epoch number: 4121 and the loss : 48409.44921875\n",
            "Epoch number: 4131 and the loss : 47388.7265625\n",
            "Epoch number: 4141 and the loss : 48443.890625\n",
            "Epoch number: 4151 and the loss : 47290.76171875\n",
            "Epoch number: 4161 and the loss : 46106.609375\n",
            "Epoch number: 4171 and the loss : 46446.86328125\n",
            "Epoch number: 4181 and the loss : 46035.92578125\n",
            "Epoch number: 4191 and the loss : 48366.05078125\n",
            "Epoch number: 4201 and the loss : 48224.625\n",
            "Epoch number: 4211 and the loss : 44799.8984375\n",
            "Epoch number: 4221 and the loss : 44028.06640625\n",
            "Epoch number: 4231 and the loss : 46529.98046875\n",
            "Epoch number: 4241 and the loss : 50369.00390625\n",
            "Epoch number: 4251 and the loss : 45019.51171875\n",
            "Epoch number: 4261 and the loss : 45237.87109375\n",
            "Epoch number: 4271 and the loss : 45926.43359375\n",
            "Epoch number: 4281 and the loss : 46252.015625\n",
            "Epoch number: 4291 and the loss : 43907.2890625\n",
            "Epoch number: 4301 and the loss : 45458.12890625\n",
            "Epoch number: 4311 and the loss : 44236.66796875\n",
            "Epoch number: 4321 and the loss : 43394.16015625\n",
            "Epoch number: 4331 and the loss : 44195.84375\n",
            "Epoch number: 4341 and the loss : 43383.9375\n",
            "Epoch number: 4351 and the loss : 46758.453125\n",
            "Epoch number: 4361 and the loss : 44102.21875\n",
            "Epoch number: 4371 and the loss : 41276.98828125\n",
            "Epoch number: 4381 and the loss : 43189.3515625\n",
            "Epoch number: 4391 and the loss : 42760.21484375\n",
            "Epoch number: 4401 and the loss : 41103.26171875\n",
            "Epoch number: 4411 and the loss : 45365.5078125\n",
            "Epoch number: 4421 and the loss : 43809.4609375\n",
            "Epoch number: 4431 and the loss : 44137.23046875\n",
            "Epoch number: 4441 and the loss : 42480.7890625\n",
            "Epoch number: 4451 and the loss : 43409.08984375\n",
            "Epoch number: 4461 and the loss : 42309.1875\n",
            "Epoch number: 4471 and the loss : 43133.67578125\n",
            "Epoch number: 4481 and the loss : 42739.171875\n",
            "Epoch number: 4491 and the loss : 42658.28515625\n",
            "Epoch number: 4501 and the loss : 43317.48046875\n",
            "Epoch number: 4511 and the loss : 42673.06640625\n",
            "Epoch number: 4521 and the loss : 40821.140625\n",
            "Epoch number: 4531 and the loss : 41278.36328125\n",
            "Epoch number: 4541 and the loss : 40133.0703125\n",
            "Epoch number: 4551 and the loss : 39725.17578125\n",
            "Epoch number: 4561 and the loss : 42678.44921875\n",
            "Epoch number: 4571 and the loss : 41396.03515625\n",
            "Epoch number: 4581 and the loss : 41391.984375\n",
            "Epoch number: 4591 and the loss : 39195.59375\n",
            "Epoch number: 4601 and the loss : 41931.69921875\n",
            "Epoch number: 4611 and the loss : 39888.66796875\n",
            "Epoch number: 4621 and the loss : 39018.91796875\n",
            "Epoch number: 4631 and the loss : 40771.6328125\n",
            "Epoch number: 4641 and the loss : 41328.40625\n",
            "Epoch number: 4651 and the loss : 40186.08984375\n",
            "Epoch number: 4661 and the loss : 40978.60546875\n",
            "Epoch number: 4671 and the loss : 42862.32421875\n",
            "Epoch number: 4681 and the loss : 41791.90625\n",
            "Epoch number: 4691 and the loss : 42068.21484375\n",
            "Epoch number: 4701 and the loss : 40632.890625\n",
            "Epoch number: 4711 and the loss : 38729.01953125\n",
            "Epoch number: 4721 and the loss : 40508.75\n",
            "Epoch number: 4731 and the loss : 41238.10546875\n",
            "Epoch number: 4741 and the loss : 39383.5703125\n",
            "Epoch number: 4751 and the loss : 40585.625\n",
            "Epoch number: 4761 and the loss : 39646.5390625\n",
            "Epoch number: 4771 and the loss : 40010.3828125\n",
            "Epoch number: 4781 and the loss : 38738.0390625\n",
            "Epoch number: 4791 and the loss : 39149.48828125\n",
            "Epoch number: 4801 and the loss : 39803.2265625\n",
            "Epoch number: 4811 and the loss : 40282.125\n",
            "Epoch number: 4821 and the loss : 39886.61328125\n",
            "Epoch number: 4831 and the loss : 41500.46875\n",
            "Epoch number: 4841 and the loss : 39849.0859375\n",
            "Epoch number: 4851 and the loss : 43381.03125\n",
            "Epoch number: 4861 and the loss : 40076.87109375\n",
            "Epoch number: 4871 and the loss : 39455.9921875\n",
            "Epoch number: 4881 and the loss : 40042.7265625\n",
            "Epoch number: 4891 and the loss : 38869.01171875\n",
            "Epoch number: 4901 and the loss : 40659.08203125\n",
            "Epoch number: 4911 and the loss : 38590.15625\n",
            "Epoch number: 4921 and the loss : 39930.92578125\n",
            "Epoch number: 4931 and the loss : 41073.64453125\n",
            "Epoch number: 4941 and the loss : 40250.7421875\n",
            "Epoch number: 4951 and the loss : 39175.0546875\n",
            "Epoch number: 4961 and the loss : 39357.35546875\n",
            "Epoch number: 4971 and the loss : 41287.015625\n",
            "Epoch number: 4981 and the loss : 39826.4609375\n",
            "Epoch number: 4991 and the loss : 37715.984375\n",
            "Epoch number: 5001 and the loss : 39175.8359375\n",
            "Epoch number: 5011 and the loss : 37567.44921875\n",
            "Epoch number: 5021 and the loss : 40380.8984375\n",
            "Epoch number: 5031 and the loss : 39933.1171875\n",
            "Epoch number: 5041 and the loss : 37601.6640625\n",
            "Epoch number: 5051 and the loss : 37847.82421875\n",
            "Epoch number: 5061 and the loss : 43832.44140625\n",
            "Epoch number: 5071 and the loss : 38792.48828125\n",
            "Epoch number: 5081 and the loss : 38740.6796875\n",
            "Epoch number: 5091 and the loss : 39730.80859375\n",
            "Epoch number: 5101 and the loss : 43035.62890625\n",
            "Epoch number: 5111 and the loss : 39462.87890625\n",
            "Epoch number: 5121 and the loss : 41061.49609375\n",
            "Epoch number: 5131 and the loss : 41321.59765625\n",
            "Epoch number: 5141 and the loss : 40791.44921875\n",
            "Epoch number: 5151 and the loss : 43435.40234375\n",
            "Epoch number: 5161 and the loss : 38939.6640625\n",
            "Epoch number: 5171 and the loss : 40196.9921875\n",
            "Epoch number: 5181 and the loss : 38794.38671875\n",
            "Epoch number: 5191 and the loss : 40291.3984375\n",
            "Epoch number: 5201 and the loss : 40116.26171875\n",
            "Epoch number: 5211 and the loss : 40025.2421875\n",
            "Epoch number: 5221 and the loss : 39449.98046875\n",
            "Epoch number: 5231 and the loss : 39416.42578125\n",
            "Epoch number: 5241 and the loss : 39347.14453125\n",
            "Epoch number: 5251 and the loss : 39528.22265625\n",
            "Epoch number: 5261 and the loss : 38320.73828125\n",
            "Epoch number: 5271 and the loss : 39771.54296875\n",
            "Epoch number: 5281 and the loss : 37389.859375\n",
            "Epoch number: 5291 and the loss : 39361.33984375\n",
            "Epoch number: 5301 and the loss : 38256.37109375\n",
            "Epoch number: 5311 and the loss : 40299.19140625\n",
            "Epoch number: 5321 and the loss : 39851.6953125\n",
            "Epoch number: 5331 and the loss : 40221.43359375\n",
            "Epoch number: 5341 and the loss : 39982.296875\n",
            "Epoch number: 5351 and the loss : 38902.5078125\n",
            "Epoch number: 5361 and the loss : 39276.43359375\n",
            "Epoch number: 5371 and the loss : 39027.25390625\n",
            "Epoch number: 5381 and the loss : 41292.6328125\n",
            "Epoch number: 5391 and the loss : 40940.390625\n",
            "Epoch number: 5401 and the loss : 39162.9921875\n",
            "Epoch number: 5411 and the loss : 39338.19921875\n",
            "Epoch number: 5421 and the loss : 39917.55859375\n",
            "Epoch number: 5431 and the loss : 38449.20703125\n",
            "Epoch number: 5441 and the loss : 38288.375\n",
            "Epoch number: 5451 and the loss : 37924.90234375\n",
            "Epoch number: 5461 and the loss : 38018.296875\n",
            "Epoch number: 5471 and the loss : 38999.68359375\n",
            "Epoch number: 5481 and the loss : 40131.40625\n",
            "Epoch number: 5491 and the loss : 37549.07421875\n",
            "Epoch number: 5501 and the loss : 39346.80859375\n",
            "Epoch number: 5511 and the loss : 40730.671875\n",
            "Epoch number: 5521 and the loss : 40456.20703125\n",
            "Epoch number: 5531 and the loss : 38935.3046875\n",
            "Epoch number: 5541 and the loss : 41291.73828125\n",
            "Epoch number: 5551 and the loss : 41117.00390625\n",
            "Epoch number: 5561 and the loss : 41232.03515625\n",
            "Epoch number: 5571 and the loss : 39870.80859375\n",
            "Epoch number: 5581 and the loss : 40236.453125\n",
            "Epoch number: 5591 and the loss : 40744.75\n",
            "Epoch number: 5601 and the loss : 39080.140625\n",
            "Epoch number: 5611 and the loss : 40957.7265625\n",
            "Epoch number: 5621 and the loss : 39614.70703125\n",
            "Epoch number: 5631 and the loss : 39311.5546875\n",
            "Epoch number: 5641 and the loss : 39910.2578125\n",
            "Epoch number: 5651 and the loss : 39961.890625\n",
            "Epoch number: 5661 and the loss : 39017.08203125\n",
            "Epoch number: 5671 and the loss : 39880.26953125\n",
            "Epoch number: 5681 and the loss : 42447.046875\n",
            "Epoch number: 5691 and the loss : 38892.2265625\n",
            "Epoch number: 5701 and the loss : 41021.02734375\n",
            "Epoch number: 5711 and the loss : 39815.94921875\n",
            "Epoch number: 5721 and the loss : 39126.0234375\n",
            "Epoch number: 5731 and the loss : 40413.6328125\n",
            "Epoch number: 5741 and the loss : 40138.18359375\n",
            "Epoch number: 5751 and the loss : 39669.546875\n",
            "Epoch number: 5761 and the loss : 38235.0390625\n",
            "Epoch number: 5771 and the loss : 40251.13671875\n",
            "Epoch number: 5781 and the loss : 39472.40625\n",
            "Epoch number: 5791 and the loss : 39946.6328125\n",
            "Epoch number: 5801 and the loss : 41649.9609375\n",
            "Epoch number: 5811 and the loss : 37705.5234375\n",
            "Epoch number: 5821 and the loss : 37724.9921875\n",
            "Epoch number: 5831 and the loss : 38631.24609375\n",
            "Epoch number: 5841 and the loss : 39118.1640625\n",
            "Epoch number: 5851 and the loss : 42390.6953125\n",
            "Epoch number: 5861 and the loss : 37014.12109375\n",
            "Epoch number: 5871 and the loss : 39513.0625\n",
            "Epoch number: 5881 and the loss : 41481.24609375\n",
            "Epoch number: 5891 and the loss : 38476.13671875\n",
            "Epoch number: 5901 and the loss : 42210.984375\n",
            "Epoch number: 5911 and the loss : 51281.55078125\n",
            "Epoch number: 5921 and the loss : 40102.80078125\n",
            "Epoch number: 5931 and the loss : 39928.55859375\n",
            "Epoch number: 5941 and the loss : 41236.90625\n",
            "Epoch number: 5951 and the loss : 38449.421875\n",
            "Epoch number: 5961 and the loss : 39465.91015625\n",
            "Epoch number: 5971 and the loss : 38492.171875\n",
            "Epoch number: 5981 and the loss : 40431.05078125\n",
            "Epoch number: 5991 and the loss : 38131.90234375\n",
            "Epoch number: 6001 and the loss : 37359.23046875\n",
            "Epoch number: 6011 and the loss : 38482.81640625\n",
            "Epoch number: 6021 and the loss : 39434.828125\n",
            "Epoch number: 6031 and the loss : 39776.52734375\n",
            "Epoch number: 6041 and the loss : 38298.7734375\n",
            "Epoch number: 6051 and the loss : 39310.94140625\n",
            "Epoch number: 6061 and the loss : 38115.62109375\n",
            "Epoch number: 6071 and the loss : 39431.33984375\n",
            "Epoch number: 6081 and the loss : 38526.4609375\n",
            "Epoch number: 6091 and the loss : 42154.02734375\n",
            "Epoch number: 6101 and the loss : 39733.6015625\n",
            "Epoch number: 6111 and the loss : 38783.40234375\n",
            "Epoch number: 6121 and the loss : 39599.26953125\n",
            "Epoch number: 6131 and the loss : 40354.546875\n",
            "Epoch number: 6141 and the loss : 38701.30859375\n",
            "Epoch number: 6151 and the loss : 39625.484375\n",
            "Epoch number: 6161 and the loss : 39151.2890625\n",
            "Epoch number: 6171 and the loss : 39786.57421875\n",
            "Epoch number: 6181 and the loss : 40996.59765625\n",
            "Epoch number: 6191 and the loss : 37191.265625\n",
            "Epoch number: 6201 and the loss : 41339.296875\n",
            "Epoch number: 6211 and the loss : 41252.8359375\n",
            "Epoch number: 6221 and the loss : 39287.0\n",
            "Epoch number: 6231 and the loss : 39163.41796875\n",
            "Epoch number: 6241 and the loss : 39945.0\n",
            "Epoch number: 6251 and the loss : 39593.203125\n",
            "Epoch number: 6261 and the loss : 40006.59765625\n",
            "Epoch number: 6271 and the loss : 38900.64453125\n",
            "Epoch number: 6281 and the loss : 38485.3828125\n",
            "Epoch number: 6291 and the loss : 38368.25390625\n",
            "Epoch number: 6301 and the loss : 41556.53515625\n",
            "Epoch number: 6311 and the loss : 38652.75\n",
            "Epoch number: 6321 and the loss : 40014.5546875\n",
            "Epoch number: 6331 and the loss : 39361.4609375\n",
            "Epoch number: 6341 and the loss : 37721.1015625\n",
            "Epoch number: 6351 and the loss : 37038.35546875\n",
            "Epoch number: 6361 and the loss : 38240.43359375\n",
            "Epoch number: 6371 and the loss : 39591.4609375\n",
            "Epoch number: 6381 and the loss : 40741.4453125\n",
            "Epoch number: 6391 and the loss : 40469.28125\n",
            "Epoch number: 6401 and the loss : 37945.7265625\n",
            "Epoch number: 6411 and the loss : 42268.69921875\n",
            "Epoch number: 6421 and the loss : 40581.94921875\n",
            "Epoch number: 6431 and the loss : 37511.90625\n",
            "Epoch number: 6441 and the loss : 37950.59765625\n",
            "Epoch number: 6451 and the loss : 38674.22265625\n",
            "Epoch number: 6461 and the loss : 38486.23828125\n",
            "Epoch number: 6471 and the loss : 39381.3984375\n",
            "Epoch number: 6481 and the loss : 40768.296875\n",
            "Epoch number: 6491 and the loss : 37852.65625\n",
            "Epoch number: 6501 and the loss : 38550.375\n",
            "Epoch number: 6511 and the loss : 40688.1875\n",
            "Epoch number: 6521 and the loss : 41627.05078125\n",
            "Epoch number: 6531 and the loss : 39233.65625\n",
            "Epoch number: 6541 and the loss : 38668.375\n",
            "Epoch number: 6551 and the loss : 38149.21875\n",
            "Epoch number: 6561 and the loss : 36098.01171875\n",
            "Epoch number: 6571 and the loss : 40083.3046875\n",
            "Epoch number: 6581 and the loss : 40013.3671875\n",
            "Epoch number: 6591 and the loss : 39297.2265625\n",
            "Epoch number: 6601 and the loss : 39543.83203125\n",
            "Epoch number: 6611 and the loss : 39306.1875\n",
            "Epoch number: 6621 and the loss : 38181.8125\n",
            "Epoch number: 6631 and the loss : 37892.69921875\n",
            "Epoch number: 6641 and the loss : 40563.82421875\n",
            "Epoch number: 6651 and the loss : 37946.37890625\n",
            "Epoch number: 6661 and the loss : 38589.890625\n",
            "Epoch number: 6671 and the loss : 39823.9375\n",
            "Epoch number: 6681 and the loss : 39651.3125\n",
            "Epoch number: 6691 and the loss : 39476.28515625\n",
            "Epoch number: 6701 and the loss : 39759.6171875\n",
            "Epoch number: 6711 and the loss : 39717.2421875\n",
            "Epoch number: 6721 and the loss : 38921.03125\n",
            "Epoch number: 6731 and the loss : 37858.9609375\n",
            "Epoch number: 6741 and the loss : 39741.5234375\n",
            "Epoch number: 6751 and the loss : 39696.37109375\n",
            "Epoch number: 6761 and the loss : 39617.6875\n",
            "Epoch number: 6771 and the loss : 38698.6875\n",
            "Epoch number: 6781 and the loss : 38691.33203125\n",
            "Epoch number: 6791 and the loss : 39142.3125\n",
            "Epoch number: 6801 and the loss : 39734.16015625\n",
            "Epoch number: 6811 and the loss : 39014.53515625\n",
            "Epoch number: 6821 and the loss : 39555.4609375\n",
            "Epoch number: 6831 and the loss : 38950.3359375\n",
            "Epoch number: 6841 and the loss : 39786.71484375\n",
            "Epoch number: 6851 and the loss : 38733.328125\n",
            "Epoch number: 6861 and the loss : 37807.296875\n",
            "Epoch number: 6871 and the loss : 38452.421875\n",
            "Epoch number: 6881 and the loss : 41574.02734375\n",
            "Epoch number: 6891 and the loss : 40591.53515625\n",
            "Epoch number: 6901 and the loss : 37643.45703125\n",
            "Epoch number: 6911 and the loss : 38975.6484375\n",
            "Epoch number: 6921 and the loss : 39368.703125\n",
            "Epoch number: 6931 and the loss : 39626.625\n",
            "Epoch number: 6941 and the loss : 39048.3046875\n",
            "Epoch number: 6951 and the loss : 39191.31640625\n",
            "Epoch number: 6961 and the loss : 40606.23046875\n",
            "Epoch number: 6971 and the loss : 37253.5859375\n",
            "Epoch number: 6981 and the loss : 39911.42578125\n",
            "Epoch number: 6991 and the loss : 38182.9609375\n",
            "Epoch number: 7001 and the loss : 38392.40625\n",
            "Epoch number: 7011 and the loss : 38801.91796875\n",
            "Epoch number: 7021 and the loss : 38537.82421875\n",
            "Epoch number: 7031 and the loss : 40723.859375\n",
            "Epoch number: 7041 and the loss : 39280.3046875\n",
            "Epoch number: 7051 and the loss : 38358.47265625\n",
            "Epoch number: 7061 and the loss : 39895.234375\n",
            "Epoch number: 7071 and the loss : 36998.46484375\n",
            "Epoch number: 7081 and the loss : 39574.0390625\n",
            "Epoch number: 7091 and the loss : 39397.32421875\n",
            "Epoch number: 7101 and the loss : 38694.80859375\n",
            "Epoch number: 7111 and the loss : 38212.0546875\n",
            "Epoch number: 7121 and the loss : 39742.98046875\n",
            "Epoch number: 7131 and the loss : 40652.77734375\n",
            "Epoch number: 7141 and the loss : 40222.79296875\n",
            "Epoch number: 7151 and the loss : 39756.76953125\n",
            "Epoch number: 7161 and the loss : 39234.83203125\n",
            "Epoch number: 7171 and the loss : 39506.05078125\n",
            "Epoch number: 7181 and the loss : 39217.2578125\n",
            "Epoch number: 7191 and the loss : 40676.92578125\n",
            "Epoch number: 7201 and the loss : 38670.29296875\n",
            "Epoch number: 7211 and the loss : 39753.33203125\n",
            "Epoch number: 7221 and the loss : 38918.546875\n",
            "Epoch number: 7231 and the loss : 38421.62890625\n",
            "Epoch number: 7241 and the loss : 40367.453125\n",
            "Epoch number: 7251 and the loss : 39885.9375\n",
            "Epoch number: 7261 and the loss : 39363.36328125\n",
            "Epoch number: 7271 and the loss : 39594.64453125\n",
            "Epoch number: 7281 and the loss : 38934.5859375\n",
            "Epoch number: 7291 and the loss : 38876.90234375\n",
            "Epoch number: 7301 and the loss : 37597.7109375\n",
            "Epoch number: 7311 and the loss : 39934.8515625\n",
            "Epoch number: 7321 and the loss : 39744.5390625\n",
            "Epoch number: 7331 and the loss : 39633.44921875\n",
            "Epoch number: 7341 and the loss : 40380.37109375\n",
            "Epoch number: 7351 and the loss : 38124.34765625\n",
            "Epoch number: 7361 and the loss : 40821.46875\n",
            "Epoch number: 7371 and the loss : 38642.90625\n",
            "Epoch number: 7381 and the loss : 40275.55078125\n",
            "Epoch number: 7391 and the loss : 39501.66796875\n",
            "Epoch number: 7401 and the loss : 38116.8828125\n",
            "Epoch number: 7411 and the loss : 38485.359375\n",
            "Epoch number: 7421 and the loss : 37336.60546875\n",
            "Epoch number: 7431 and the loss : 38083.203125\n",
            "Epoch number: 7441 and the loss : 39292.57421875\n",
            "Epoch number: 7451 and the loss : 38515.86328125\n",
            "Epoch number: 7461 and the loss : 39045.75390625\n",
            "Epoch number: 7471 and the loss : 39278.5234375\n",
            "Epoch number: 7481 and the loss : 38743.82421875\n",
            "Epoch number: 7491 and the loss : 39663.8515625\n",
            "Epoch number: 7501 and the loss : 38889.77734375\n",
            "Epoch number: 7511 and the loss : 36885.16015625\n",
            "Epoch number: 7521 and the loss : 38538.39453125\n",
            "Epoch number: 7531 and the loss : 37144.71484375\n",
            "Epoch number: 7541 and the loss : 38792.8125\n",
            "Epoch number: 7551 and the loss : 37957.8203125\n",
            "Epoch number: 7561 and the loss : 39170.546875\n",
            "Epoch number: 7571 and the loss : 37805.62890625\n",
            "Epoch number: 7581 and the loss : 38171.0625\n",
            "Epoch number: 7591 and the loss : 39769.125\n",
            "Epoch number: 7601 and the loss : 39800.47265625\n",
            "Epoch number: 7611 and the loss : 39466.01171875\n",
            "Epoch number: 7621 and the loss : 37582.76953125\n",
            "Epoch number: 7631 and the loss : 38244.65625\n",
            "Epoch number: 7641 and the loss : 39228.34765625\n",
            "Epoch number: 7651 and the loss : 39775.18359375\n",
            "Epoch number: 7661 and the loss : 40754.8203125\n",
            "Epoch number: 7671 and the loss : 39316.5078125\n",
            "Epoch number: 7681 and the loss : 40190.42578125\n",
            "Epoch number: 7691 and the loss : 41567.24609375\n",
            "Epoch number: 7701 and the loss : 39854.75390625\n",
            "Epoch number: 7711 and the loss : 39122.7265625\n",
            "Epoch number: 7721 and the loss : 39820.37109375\n",
            "Epoch number: 7731 and the loss : 37873.6015625\n",
            "Epoch number: 7741 and the loss : 39558.6171875\n",
            "Epoch number: 7751 and the loss : 40717.00390625\n",
            "Epoch number: 7761 and the loss : 38839.81640625\n",
            "Epoch number: 7771 and the loss : 40227.63671875\n",
            "Epoch number: 7781 and the loss : 39215.12890625\n",
            "Epoch number: 7791 and the loss : 37455.24609375\n",
            "Epoch number: 7801 and the loss : 39660.08203125\n",
            "Epoch number: 7811 and the loss : 38660.921875\n",
            "Epoch number: 7821 and the loss : 39573.46484375\n",
            "Epoch number: 7831 and the loss : 41176.58984375\n",
            "Epoch number: 7841 and the loss : 41158.109375\n",
            "Epoch number: 7851 and the loss : 39039.38671875\n",
            "Epoch number: 7861 and the loss : 38330.25\n",
            "Epoch number: 7871 and the loss : 40345.5546875\n",
            "Epoch number: 7881 and the loss : 39497.28515625\n",
            "Epoch number: 7891 and the loss : 40535.43359375\n",
            "Epoch number: 7901 and the loss : 40394.7265625\n",
            "Epoch number: 7911 and the loss : 39160.59375\n",
            "Epoch number: 7921 and the loss : 40633.08984375\n",
            "Epoch number: 7931 and the loss : 37568.85546875\n",
            "Epoch number: 7941 and the loss : 36803.671875\n",
            "Epoch number: 7951 and the loss : 38230.11328125\n",
            "Epoch number: 7961 and the loss : 39812.21875\n",
            "Epoch number: 7971 and the loss : 39430.02734375\n",
            "Epoch number: 7981 and the loss : 38771.74609375\n",
            "Epoch number: 7991 and the loss : 40458.1484375\n",
            "Epoch number: 8001 and the loss : 40711.08984375\n",
            "Epoch number: 8011 and the loss : 37718.875\n",
            "Epoch number: 8021 and the loss : 39183.7109375\n",
            "Epoch number: 8031 and the loss : 40061.7734375\n",
            "Epoch number: 8041 and the loss : 39207.3671875\n",
            "Epoch number: 8051 and the loss : 37181.19921875\n",
            "Epoch number: 8061 and the loss : 38883.16796875\n",
            "Epoch number: 8071 and the loss : 38200.6640625\n",
            "Epoch number: 8081 and the loss : 39243.02734375\n",
            "Epoch number: 8091 and the loss : 41355.92578125\n",
            "Epoch number: 8101 and the loss : 38502.23046875\n",
            "Epoch number: 8111 and the loss : 37329.6484375\n",
            "Epoch number: 8121 and the loss : 39594.68359375\n",
            "Epoch number: 8131 and the loss : 38822.4296875\n",
            "Epoch number: 8141 and the loss : 38933.75\n",
            "Epoch number: 8151 and the loss : 38057.5078125\n",
            "Epoch number: 8161 and the loss : 38313.671875\n",
            "Epoch number: 8171 and the loss : 40597.1015625\n",
            "Epoch number: 8181 and the loss : 37936.82421875\n",
            "Epoch number: 8191 and the loss : 40555.88671875\n",
            "Epoch number: 8201 and the loss : 37962.9921875\n",
            "Epoch number: 8211 and the loss : 38980.85546875\n",
            "Epoch number: 8221 and the loss : 38282.8828125\n",
            "Epoch number: 8231 and the loss : 38854.4140625\n",
            "Epoch number: 8241 and the loss : 40017.578125\n",
            "Epoch number: 8251 and the loss : 37525.83984375\n",
            "Epoch number: 8261 and the loss : 38083.52734375\n",
            "Epoch number: 8271 and the loss : 39652.91796875\n",
            "Epoch number: 8281 and the loss : 40235.8515625\n",
            "Epoch number: 8291 and the loss : 38322.80859375\n",
            "Epoch number: 8301 and the loss : 39991.91796875\n",
            "Epoch number: 8311 and the loss : 40861.91796875\n",
            "Epoch number: 8321 and the loss : 39307.85546875\n",
            "Epoch number: 8331 and the loss : 39740.49609375\n",
            "Epoch number: 8341 and the loss : 39446.00390625\n",
            "Epoch number: 8351 and the loss : 38282.55078125\n",
            "Epoch number: 8361 and the loss : 39332.828125\n",
            "Epoch number: 8371 and the loss : 38878.7734375\n",
            "Epoch number: 8381 and the loss : 41136.96875\n",
            "Epoch number: 8391 and the loss : 39216.8046875\n",
            "Epoch number: 8401 and the loss : 38738.44921875\n",
            "Epoch number: 8411 and the loss : 38437.20703125\n",
            "Epoch number: 8421 and the loss : 38594.203125\n",
            "Epoch number: 8431 and the loss : 39654.45703125\n",
            "Epoch number: 8441 and the loss : 39156.47265625\n",
            "Epoch number: 8451 and the loss : 38251.03125\n",
            "Epoch number: 8461 and the loss : 39996.18359375\n",
            "Epoch number: 8471 and the loss : 38833.59375\n",
            "Epoch number: 8481 and the loss : 39709.55859375\n",
            "Epoch number: 8491 and the loss : 40282.7578125\n",
            "Epoch number: 8501 and the loss : 39857.52734375\n",
            "Epoch number: 8511 and the loss : 39135.05078125\n",
            "Epoch number: 8521 and the loss : 39617.78515625\n",
            "Epoch number: 8531 and the loss : 40095.98828125\n",
            "Epoch number: 8541 and the loss : 39218.86328125\n",
            "Epoch number: 8551 and the loss : 40633.765625\n",
            "Epoch number: 8561 and the loss : 38921.8984375\n",
            "Epoch number: 8571 and the loss : 38907.90234375\n",
            "Epoch number: 8581 and the loss : 40177.44921875\n",
            "Epoch number: 8591 and the loss : 38942.98046875\n",
            "Epoch number: 8601 and the loss : 39486.34375\n",
            "Epoch number: 8611 and the loss : 39805.01953125\n",
            "Epoch number: 8621 and the loss : 39257.34765625\n",
            "Epoch number: 8631 and the loss : 39532.328125\n",
            "Epoch number: 8641 and the loss : 41455.65625\n",
            "Epoch number: 8651 and the loss : 39969.05078125\n",
            "Epoch number: 8661 and the loss : 41115.1640625\n",
            "Epoch number: 8671 and the loss : 39098.40625\n",
            "Epoch number: 8681 and the loss : 38104.57421875\n",
            "Epoch number: 8691 and the loss : 39849.66796875\n",
            "Epoch number: 8701 and the loss : 42148.55859375\n",
            "Epoch number: 8711 and the loss : 40253.70703125\n",
            "Epoch number: 8721 and the loss : 40006.76171875\n",
            "Epoch number: 8731 and the loss : 41778.14453125\n",
            "Epoch number: 8741 and the loss : 38224.4453125\n",
            "Epoch number: 8751 and the loss : 38964.171875\n",
            "Epoch number: 8761 and the loss : 39182.09765625\n",
            "Epoch number: 8771 and the loss : 40557.61328125\n",
            "Epoch number: 8781 and the loss : 38229.75\n",
            "Epoch number: 8791 and the loss : 37943.0546875\n",
            "Epoch number: 8801 and the loss : 37869.4609375\n",
            "Epoch number: 8811 and the loss : 40207.61328125\n",
            "Epoch number: 8821 and the loss : 38484.6015625\n",
            "Epoch number: 8831 and the loss : 37981.078125\n",
            "Epoch number: 8841 and the loss : 41057.96484375\n",
            "Epoch number: 8851 and the loss : 39909.921875\n",
            "Epoch number: 8861 and the loss : 41731.19140625\n",
            "Epoch number: 8871 and the loss : 39470.73046875\n",
            "Epoch number: 8881 and the loss : 37879.66796875\n",
            "Epoch number: 8891 and the loss : 43724.3828125\n",
            "Epoch number: 8901 and the loss : 39994.91015625\n",
            "Epoch number: 8911 and the loss : 39474.9921875\n",
            "Epoch number: 8921 and the loss : 38414.65625\n",
            "Epoch number: 8931 and the loss : 38509.15234375\n",
            "Epoch number: 8941 and the loss : 39252.6328125\n",
            "Epoch number: 8951 and the loss : 37999.640625\n",
            "Epoch number: 8961 and the loss : 37946.15234375\n",
            "Epoch number: 8971 and the loss : 39694.70703125\n",
            "Epoch number: 8981 and the loss : 38555.41015625\n",
            "Epoch number: 8991 and the loss : 40236.234375\n",
            "Epoch number: 9001 and the loss : 36598.13671875\n",
            "Epoch number: 9011 and the loss : 42405.4921875\n",
            "Epoch number: 9021 and the loss : 38802.38671875\n",
            "Epoch number: 9031 and the loss : 40573.76171875\n",
            "Epoch number: 9041 and the loss : 39981.734375\n",
            "Epoch number: 9051 and the loss : 39847.23828125\n",
            "Epoch number: 9061 and the loss : 39996.36328125\n",
            "Epoch number: 9071 and the loss : 39299.87890625\n",
            "Epoch number: 9081 and the loss : 39099.2890625\n",
            "Epoch number: 9091 and the loss : 39950.5390625\n",
            "Epoch number: 9101 and the loss : 38682.28515625\n",
            "Epoch number: 9111 and the loss : 39229.5546875\n",
            "Epoch number: 9121 and the loss : 37854.1640625\n",
            "Epoch number: 9131 and the loss : 38863.12890625\n",
            "Epoch number: 9141 and the loss : 38208.8203125\n",
            "Epoch number: 9151 and the loss : 39026.3515625\n",
            "Epoch number: 9161 and the loss : 37498.16015625\n",
            "Epoch number: 9171 and the loss : 40638.0\n",
            "Epoch number: 9181 and the loss : 39128.94921875\n",
            "Epoch number: 9191 and the loss : 39304.94921875\n",
            "Epoch number: 9201 and the loss : 37922.39453125\n",
            "Epoch number: 9211 and the loss : 38227.5078125\n",
            "Epoch number: 9221 and the loss : 38155.69921875\n",
            "Epoch number: 9231 and the loss : 38597.36328125\n",
            "Epoch number: 9241 and the loss : 40644.44921875\n",
            "Epoch number: 9251 and the loss : 38648.76171875\n",
            "Epoch number: 9261 and the loss : 38954.125\n",
            "Epoch number: 9271 and the loss : 38241.91015625\n",
            "Epoch number: 9281 and the loss : 38985.30859375\n",
            "Epoch number: 9291 and the loss : 38169.6015625\n",
            "Epoch number: 9301 and the loss : 39621.48046875\n",
            "Epoch number: 9311 and the loss : 37928.88671875\n",
            "Epoch number: 9321 and the loss : 38227.28515625\n",
            "Epoch number: 9331 and the loss : 38747.87109375\n",
            "Epoch number: 9341 and the loss : 40191.27734375\n",
            "Epoch number: 9351 and the loss : 37489.2734375\n",
            "Epoch number: 9361 and the loss : 40504.5078125\n",
            "Epoch number: 9371 and the loss : 39958.3828125\n",
            "Epoch number: 9381 and the loss : 39839.8046875\n",
            "Epoch number: 9391 and the loss : 39718.640625\n",
            "Epoch number: 9401 and the loss : 39417.63671875\n",
            "Epoch number: 9411 and the loss : 39607.48828125\n",
            "Epoch number: 9421 and the loss : 40991.109375\n",
            "Epoch number: 9431 and the loss : 36817.75\n",
            "Epoch number: 9441 and the loss : 39279.27734375\n",
            "Epoch number: 9451 and the loss : 38542.4140625\n",
            "Epoch number: 9461 and the loss : 38540.25390625\n",
            "Epoch number: 9471 and the loss : 40006.4921875\n",
            "Epoch number: 9481 and the loss : 39413.359375\n",
            "Epoch number: 9491 and the loss : 38415.33984375\n",
            "Epoch number: 9501 and the loss : 39519.66015625\n",
            "Epoch number: 9511 and the loss : 38509.515625\n",
            "Epoch number: 9521 and the loss : 37667.3671875\n",
            "Epoch number: 9531 and the loss : 40161.484375\n",
            "Epoch number: 9541 and the loss : 38273.22265625\n",
            "Epoch number: 9551 and the loss : 39969.9921875\n",
            "Epoch number: 9561 and the loss : 38149.1328125\n",
            "Epoch number: 9571 and the loss : 39354.20703125\n",
            "Epoch number: 9581 and the loss : 38075.8359375\n",
            "Epoch number: 9591 and the loss : 39064.34765625\n",
            "Epoch number: 9601 and the loss : 39057.421875\n",
            "Epoch number: 9611 and the loss : 39843.58203125\n",
            "Epoch number: 9621 and the loss : 39551.25\n",
            "Epoch number: 9631 and the loss : 39216.8046875\n",
            "Epoch number: 9641 and the loss : 39496.53515625\n",
            "Epoch number: 9651 and the loss : 38048.58984375\n",
            "Epoch number: 9661 and the loss : 40050.42578125\n",
            "Epoch number: 9671 and the loss : 38725.765625\n",
            "Epoch number: 9681 and the loss : 37778.44140625\n",
            "Epoch number: 9691 and the loss : 39809.2734375\n",
            "Epoch number: 9701 and the loss : 39003.5625\n",
            "Epoch number: 9711 and the loss : 37021.15234375\n",
            "Epoch number: 9721 and the loss : 38839.4765625\n",
            "Epoch number: 9731 and the loss : 38644.6953125\n",
            "Epoch number: 9741 and the loss : 40436.296875\n",
            "Epoch number: 9751 and the loss : 39417.69921875\n",
            "Epoch number: 9761 and the loss : 39210.6171875\n",
            "Epoch number: 9771 and the loss : 40701.18359375\n",
            "Epoch number: 9781 and the loss : 38941.60546875\n",
            "Epoch number: 9791 and the loss : 37100.0\n",
            "Epoch number: 9801 and the loss : 38443.92578125\n",
            "Epoch number: 9811 and the loss : 38075.28515625\n",
            "Epoch number: 9821 and the loss : 37325.28125\n",
            "Epoch number: 9831 and the loss : 40124.01953125\n",
            "Epoch number: 9841 and the loss : 40647.48828125\n",
            "Epoch number: 9851 and the loss : 39070.44921875\n",
            "Epoch number: 9861 and the loss : 41165.71875\n",
            "Epoch number: 9871 and the loss : 40362.0\n",
            "Epoch number: 9881 and the loss : 38669.5078125\n",
            "Epoch number: 9891 and the loss : 38552.61328125\n",
            "Epoch number: 9901 and the loss : 38033.24609375\n",
            "Epoch number: 9911 and the loss : 39241.69921875\n",
            "Epoch number: 9921 and the loss : 38724.2109375\n",
            "Epoch number: 9931 and the loss : 40128.94921875\n",
            "Epoch number: 9941 and the loss : 37936.8671875\n",
            "Epoch number: 9951 and the loss : 39878.546875\n",
            "Epoch number: 9961 and the loss : 38757.16796875\n",
            "Epoch number: 9971 and the loss : 38727.5234375\n",
            "Epoch number: 9981 and the loss : 38751.28515625\n",
            "Epoch number: 9991 and the loss : 37673.15234375\n"
          ],
          "name": "stdout"
        }
      ]
    },
    {
      "cell_type": "code",
      "metadata": {
        "colab": {
          "base_uri": "https://localhost:8080/",
          "height": 296
        },
        "id": "hCFpHeUTVu8e",
        "outputId": "d4389435-608f-4f54-b03c-827096850e64"
      },
      "source": [
        "import matplotlib.pyplot as plt\n",
        "%matplotlib inline\n",
        "plt.plot(range(epochs), final_losses)\n",
        "plt.ylabel('RMSE Loss')\n",
        "plt.xlabel('epoch')"
      ],
      "execution_count": 45,
      "outputs": [
        {
          "output_type": "execute_result",
          "data": {
            "text/plain": [
              "Text(0.5, 0, 'epoch')"
            ]
          },
          "metadata": {
            "tags": []
          },
          "execution_count": 45
        },
        {
          "output_type": "display_data",
          "data": {
            "image/png": "[encoded data removed]",
            "text/plain": [
              "<Figure size 432x288 with 1 Axes>"
            ]
          },
          "metadata": {
            "tags": [],
            "needs_background": "light"
          }
        }
      ]
    },
    {
      "cell_type": "code",
      "metadata": {
        "colab": {
          "base_uri": "https://localhost:8080/"
        },
        "id": "f34wVBAKky7C",
        "outputId": "539f66a6-bc79-4518-e378-0ab17411f9b4"
      },
      "source": [
        "y_pred=\"\"\n",
        "with torch.no_grad():\n",
        "    y_pred=model(test_categorical,test_cont)\n",
        "    loss=torch.sqrt(loss_function(y_pred,y_test))\n",
        "print('RMSE: {}'.format(loss))\n"
      ],
      "execution_count": 46,
      "outputs": [
        {
          "output_type": "stream",
          "text": [
            "RMSE: 52093.7109375\n"
          ],
          "name": "stdout"
        }
      ]
    },
    {
      "cell_type": "code",
      "metadata": {
        "id": "NntdBcqIu-KG"
      },
      "source": [
        "data_verify=pd.DataFrame(y_test.tolist(),columns=[\"Test\"])"
      ],
      "execution_count": 47,
      "outputs": []
    },
    {
      "cell_type": "code",
      "metadata": {
        "id": "p6viDIdpvG-L"
      },
      "source": [
        "data_predicted=pd.DataFrame(y_pred.tolist(),columns=[\"Prediction\"])\n"
      ],
      "execution_count": 48,
      "outputs": []
    },
    {
      "cell_type": "code",
      "metadata": {
        "colab": {
          "base_uri": "https://localhost:8080/",
          "height": 417
        },
        "id": "eqw_mlvfvJTl",
        "outputId": "b24beceb-fbc2-4232-d2ee-57bdfc0d19ce"
      },
      "source": [
        "data_predicted"
      ],
      "execution_count": 49,
      "outputs": [
        {
          "output_type": "execute_result",
          "data": {
            "text/html": [
              "<div>\n",
              "<style scoped>\n",
              "    .dataframe tbody tr th:only-of-type {\n",
              "        vertical-align: middle;\n",
              "    }\n",
              "\n",
              "    .dataframe tbody tr th {\n",
              "        vertical-align: top;\n",
              "    }\n",
              "\n",
              "    .dataframe thead th {\n",
              "        text-align: right;\n",
              "    }\n",
              "</style>\n",
              "<table border=\"1\" class=\"dataframe\">\n",
              "  <thead>\n",
              "    <tr style=\"text-align: right;\">\n",
              "      <th></th>\n",
              "      <th>Prediction</th>\n",
              "    </tr>\n",
              "  </thead>\n",
              "  <tbody>\n",
              "    <tr>\n",
              "      <th>0</th>\n",
              "      <td>117721.156250</td>\n",
              "    </tr>\n",
              "    <tr>\n",
              "      <th>1</th>\n",
              "      <td>159971.984375</td>\n",
              "    </tr>\n",
              "    <tr>\n",
              "      <th>2</th>\n",
              "      <td>180509.093750</td>\n",
              "    </tr>\n",
              "    <tr>\n",
              "      <th>3</th>\n",
              "      <td>276208.531250</td>\n",
              "    </tr>\n",
              "    <tr>\n",
              "      <th>4</th>\n",
              "      <td>154784.093750</td>\n",
              "    </tr>\n",
              "    <tr>\n",
              "      <th>...</th>\n",
              "      <td>...</td>\n",
              "    </tr>\n",
              "    <tr>\n",
              "      <th>175</th>\n",
              "      <td>141687.421875</td>\n",
              "    </tr>\n",
              "    <tr>\n",
              "      <th>176</th>\n",
              "      <td>255841.359375</td>\n",
              "    </tr>\n",
              "    <tr>\n",
              "      <th>177</th>\n",
              "      <td>197658.250000</td>\n",
              "    </tr>\n",
              "    <tr>\n",
              "      <th>178</th>\n",
              "      <td>253755.296875</td>\n",
              "    </tr>\n",
              "    <tr>\n",
              "      <th>179</th>\n",
              "      <td>116435.500000</td>\n",
              "    </tr>\n",
              "  </tbody>\n",
              "</table>\n",
              "<p>180 rows × 1 columns</p>\n",
              "</div>"
            ],
            "text/plain": [
              "        Prediction\n",
              "0    117721.156250\n",
              "1    159971.984375\n",
              "2    180509.093750\n",
              "3    276208.531250\n",
              "4    154784.093750\n",
              "..             ...\n",
              "175  141687.421875\n",
              "176  255841.359375\n",
              "177  197658.250000\n",
              "178  253755.296875\n",
              "179  116435.500000\n",
              "\n",
              "[180 rows x 1 columns]"
            ]
          },
          "metadata": {
            "tags": []
          },
          "execution_count": 49
        }
      ]
    },
    {
      "cell_type": "code",
      "metadata": {
        "colab": {
          "base_uri": "https://localhost:8080/",
          "height": 417
        },
        "id": "iTd3NfSyvLRK",
        "outputId": "3dca3616-3867-4850-9bf1-a255602af1a8"
      },
      "source": [
        "final_output=pd.concat([data_verify,data_predicted],axis=1)\n",
        "final_output['Difference']=final_output['Test']-final_output['Prediction']\n",
        "final_output"
      ],
      "execution_count": 50,
      "outputs": [
        {
          "output_type": "execute_result",
          "data": {
            "text/html": [
              "<div>\n",
              "<style scoped>\n",
              "    .dataframe tbody tr th:only-of-type {\n",
              "        vertical-align: middle;\n",
              "    }\n",
              "\n",
              "    .dataframe tbody tr th {\n",
              "        vertical-align: top;\n",
              "    }\n",
              "\n",
              "    .dataframe thead th {\n",
              "        text-align: right;\n",
              "    }\n",
              "</style>\n",
              "<table border=\"1\" class=\"dataframe\">\n",
              "  <thead>\n",
              "    <tr style=\"text-align: right;\">\n",
              "      <th></th>\n",
              "      <th>Test</th>\n",
              "      <th>Prediction</th>\n",
              "      <th>Difference</th>\n",
              "    </tr>\n",
              "  </thead>\n",
              "  <tbody>\n",
              "    <tr>\n",
              "      <th>0</th>\n",
              "      <td>130000.0</td>\n",
              "      <td>117721.156250</td>\n",
              "      <td>12278.843750</td>\n",
              "    </tr>\n",
              "    <tr>\n",
              "      <th>1</th>\n",
              "      <td>138887.0</td>\n",
              "      <td>159971.984375</td>\n",
              "      <td>-21084.984375</td>\n",
              "    </tr>\n",
              "    <tr>\n",
              "      <th>2</th>\n",
              "      <td>175500.0</td>\n",
              "      <td>180509.093750</td>\n",
              "      <td>-5009.093750</td>\n",
              "    </tr>\n",
              "    <tr>\n",
              "      <th>3</th>\n",
              "      <td>195000.0</td>\n",
              "      <td>276208.531250</td>\n",
              "      <td>-81208.531250</td>\n",
              "    </tr>\n",
              "    <tr>\n",
              "      <th>4</th>\n",
              "      <td>142500.0</td>\n",
              "      <td>154784.093750</td>\n",
              "      <td>-12284.093750</td>\n",
              "    </tr>\n",
              "    <tr>\n",
              "      <th>...</th>\n",
              "      <td>...</td>\n",
              "      <td>...</td>\n",
              "      <td>...</td>\n",
              "    </tr>\n",
              "    <tr>\n",
              "      <th>175</th>\n",
              "      <td>185000.0</td>\n",
              "      <td>141687.421875</td>\n",
              "      <td>43312.578125</td>\n",
              "    </tr>\n",
              "    <tr>\n",
              "      <th>176</th>\n",
              "      <td>175000.0</td>\n",
              "      <td>255841.359375</td>\n",
              "      <td>-80841.359375</td>\n",
              "    </tr>\n",
              "    <tr>\n",
              "      <th>177</th>\n",
              "      <td>210000.0</td>\n",
              "      <td>197658.250000</td>\n",
              "      <td>12341.750000</td>\n",
              "    </tr>\n",
              "    <tr>\n",
              "      <th>178</th>\n",
              "      <td>266500.0</td>\n",
              "      <td>253755.296875</td>\n",
              "      <td>12744.703125</td>\n",
              "    </tr>\n",
              "    <tr>\n",
              "      <th>179</th>\n",
              "      <td>142125.0</td>\n",
              "      <td>116435.500000</td>\n",
              "      <td>25689.500000</td>\n",
              "    </tr>\n",
              "  </tbody>\n",
              "</table>\n",
              "<p>180 rows × 3 columns</p>\n",
              "</div>"
            ],
            "text/plain": [
              "         Test     Prediction    Difference\n",
              "0    130000.0  117721.156250  12278.843750\n",
              "1    138887.0  159971.984375 -21084.984375\n",
              "2    175500.0  180509.093750  -5009.093750\n",
              "3    195000.0  276208.531250 -81208.531250\n",
              "4    142500.0  154784.093750 -12284.093750\n",
              "..        ...            ...           ...\n",
              "175  185000.0  141687.421875  43312.578125\n",
              "176  175000.0  255841.359375 -80841.359375\n",
              "177  210000.0  197658.250000  12341.750000\n",
              "178  266500.0  253755.296875  12744.703125\n",
              "179  142125.0  116435.500000  25689.500000\n",
              "\n",
              "[180 rows x 3 columns]"
            ]
          },
          "metadata": {
            "tags": []
          },
          "execution_count": 50
        }
      ]
    },
    {
      "cell_type": "code",
      "metadata": {
        "id": "nMv2ubRfvSfm"
      },
      "source": [
        "torch.save(model,'HousePrice.pt')"
      ],
      "execution_count": 51,
      "outputs": []
    },
    {
      "cell_type": "code",
      "metadata": {
        "id": "TF9Es9jjvwXh"
      },
      "source": [
        "torch.save(model.state_dict(),'HouseWeights.pt')"
      ],
      "execution_count": 52,
      "outputs": []
    },
    {
      "cell_type": "code",
      "metadata": {
        "colab": {
          "base_uri": "https://localhost:8080/"
        },
        "id": "xiMxH9qkvwrd",
        "outputId": "d05cf8ee-a985-4253-ab4c-3f35360ef33e"
      },
      "source": [
        "embs_size=[(15, 8), (5, 3), (2, 1), (4, 2)]\n",
        "model1=ANN_Model(embs_size,5,1,[100,50],p=0.5)"
      ],
      "execution_count": 53,
      "outputs": [
        {
          "output_type": "stream",
          "text": [
            "n_in: 19\n",
            "layerlist: [Linear(in_features=19, out_features=100, bias=True), ReLU(inplace=True), BatchNorm1d(100, eps=1e-05, momentum=0.1, affine=True, track_running_stats=True), Dropout(p=0.5, inplace=False), Linear(in_features=100, out_features=50, bias=True), ReLU(inplace=True), BatchNorm1d(50, eps=1e-05, momentum=0.1, affine=True, track_running_stats=True), Dropout(p=0.5, inplace=False), Linear(in_features=50, out_features=1, bias=True)]\n"
          ],
          "name": "stdout"
        }
      ]
    },
    {
      "cell_type": "code",
      "metadata": {
        "colab": {
          "base_uri": "https://localhost:8080/"
        },
        "id": "uS8YIhaxvxIS",
        "outputId": "b6fa684b-c34b-4000-e854-3df21219be38"
      },
      "source": [
        "model1.load_state_dict(torch.load('HouseWeights.pt'))"
      ],
      "execution_count": 54,
      "outputs": [
        {
          "output_type": "execute_result",
          "data": {
            "text/plain": [
              "<All keys matched successfully>"
            ]
          },
          "metadata": {
            "tags": []
          },
          "execution_count": 54
        }
      ]
    },
    {
      "cell_type": "code",
      "metadata": {
        "colab": {
          "base_uri": "https://localhost:8080/"
        },
        "id": "_vb22oYbvxfX",
        "outputId": "989a545d-0cfc-4e43-94a6-f81c5a71543d"
      },
      "source": [
        "model1.eval()"
      ],
      "execution_count": 55,
      "outputs": [
        {
          "output_type": "execute_result",
          "data": {
            "text/plain": [
              "ANN_Model(\n",
              "  (embedd): ModuleList(\n",
              "    (0): Embedding(15, 8)\n",
              "    (1): Embedding(5, 3)\n",
              "    (2): Embedding(2, 1)\n",
              "    (3): Embedding(4, 2)\n",
              "  )\n",
              "  (drop_out): Dropout(p=0.5, inplace=False)\n",
              "  (bn_cont): BatchNorm1d(5, eps=1e-05, momentum=0.1, affine=True, track_running_stats=True)\n",
              "  (layers): Sequential(\n",
              "    (0): Linear(in_features=19, out_features=100, bias=True)\n",
              "    (1): ReLU(inplace=True)\n",
              "    (2): BatchNorm1d(100, eps=1e-05, momentum=0.1, affine=True, track_running_stats=True)\n",
              "    (3): Dropout(p=0.5, inplace=False)\n",
              "    (4): Linear(in_features=100, out_features=50, bias=True)\n",
              "    (5): ReLU(inplace=True)\n",
              "    (6): BatchNorm1d(50, eps=1e-05, momentum=0.1, affine=True, track_running_stats=True)\n",
              "    (7): Dropout(p=0.5, inplace=False)\n",
              "    (8): Linear(in_features=50, out_features=1, bias=True)\n",
              "  )\n",
              ")"
            ]
          },
          "metadata": {
            "tags": []
          },
          "execution_count": 55
        }
      ]
    }
  ]
}